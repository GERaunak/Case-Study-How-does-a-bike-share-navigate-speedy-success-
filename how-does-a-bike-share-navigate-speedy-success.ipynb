{
 "cells": [
  {
   "cell_type": "markdown",
   "id": "67f86762",
   "metadata": {
    "papermill": {
     "duration": 0.09974,
     "end_time": "2022-03-08T13:13:23.780369",
     "exception": false,
     "start_time": "2022-03-08T13:13:23.680629",
     "status": "completed"
    },
    "tags": []
   },
   "source": [
    "## Case Study: How does a bike-share navigate speedy success?\n",
    "\n",
    "### Introduction\n",
    "In this case study we will work for a fictional company, Cyclistic, and meet different characters and team members. In order to answer the key business questions, we will follow the steps learned in the Google data analytics course: ask, prepare, process, analyze, share and act.\n",
    "\n",
    "The data has been made available by Motivate International Inc under this [license](https://ride.divvybikes.com/data-license-agreement)\n",
    "\n",
    "A brief explanation of the APPASA:-\n",
    "\n",
    "##### **Ask**\n",
    "1. Ask effective questions\n",
    "2. Define the scope of the analysis\n",
    "3. Use structured thinking\n",
    "4. Define what success look like\n",
    "\n",
    "##### **Prepare**\n",
    "1. Verify data's integrity, credibility and reliability\n",
    "2. Identify and use different data formats, types and structures\n",
    "3. Check data for bias\n",
    "4. Organize and protect data\n",
    "\n",
    "##### **Process**\n",
    "1. Transform and clean the data\n",
    "2. Verify and document the results\n",
    "\n",
    "##### **Analyze**\n",
    "1. Identify patterns and draw conclusion\n",
    "2. Make predictions and recommendation\n",
    "3. Make data driven decisions\n",
    "\n",
    "##### **Share**\n",
    "1. Create effective visualizations\n",
    "2. Create story of data\n",
    "3. Share insights to stakeholders\n",
    "\n",
    "##### **Act**\n",
    "1. Provide recommendations based on insights\n",
    "2. Solve problems \n",
    "3. Create something new\n",
    "\n",
    "\n",
    "### Scenario \n",
    "We will analyze the data and understand how casual riders and annual members use \n",
    "Cyclistic bike differently and from these insights we will design a new marketing strategy to convert casual riders into annual members.\n",
    "\n",
    "### 1.Ask\n",
    "We will be asking question with SMART (Specific, Measurable, Action-oriented, Relevant, Time-bound) methodology.\n",
    "\n",
    "##### **Stakeholder's expectation**\n",
    "* Design marketing strategies aimed at converting casual riders into annual members\n",
    "\n",
    "##### **Deliverables**\n",
    "* Insight on how annual members and casual riders use cyclistic bikes differently.\n",
    "* Provide effective visuals and relevant data to support insights.\n",
    "* Use insights to give three recommendations to convert casual riders to member riders.\n",
    "\n",
    "##### **Questions to ask**\n",
    "* What's the problem we are trying to solve? ->\n",
    "We are trying to find how do annual members and casual riders use the bikes differently.\n",
    "* Who are my Stakeholders? ->\n",
    "Director of Marketting, Cyclistic executive team\n",
    "\n",
    "### 2.Prepare\n",
    "\n",
    "##### **About the data**\n",
    "The data is available at this [link](https://divvy-tripdata.s3.amazonaws.com/index.html) and is made available by Motivate International Inc. There total 12 datasets from April, 2020 to March, 2021. Each dataset captures the details of every ride logged by the customers of Cyclistic.\n",
    "\n",
    "##### **Tools to be used**\n",
    "We will be using SQL and R to organize and identify biases in the data.\n",
    "\n",
    "##### **Loading libraries**"
   ]
  },
  {
   "cell_type": "code",
   "execution_count": 1,
   "id": "ff92b538",
   "metadata": {
    "execution": {
     "iopub.execute_input": "2022-03-08T13:13:23.987526Z",
     "iopub.status.busy": "2022-03-08T13:13:23.985048Z",
     "iopub.status.idle": "2022-03-08T13:13:25.140381Z",
     "shell.execute_reply": "2022-03-08T13:13:25.139031Z"
    },
    "papermill": {
     "duration": 1.259895,
     "end_time": "2022-03-08T13:13:25.140553",
     "exception": false,
     "start_time": "2022-03-08T13:13:23.880658",
     "status": "completed"
    },
    "tags": []
   },
   "outputs": [
    {
     "name": "stderr",
     "output_type": "stream",
     "text": [
      "── \u001b[1mAttaching packages\u001b[22m ─────────────────────────────────────── tidyverse 1.3.1 ──\n",
      "\n",
      "\u001b[32m✔\u001b[39m \u001b[34mggplot2\u001b[39m 3.3.5     \u001b[32m✔\u001b[39m \u001b[34mpurrr  \u001b[39m 0.3.4\n",
      "\u001b[32m✔\u001b[39m \u001b[34mtibble \u001b[39m 3.1.5     \u001b[32m✔\u001b[39m \u001b[34mdplyr  \u001b[39m 1.0.7\n",
      "\u001b[32m✔\u001b[39m \u001b[34mtidyr  \u001b[39m 1.1.4     \u001b[32m✔\u001b[39m \u001b[34mstringr\u001b[39m 1.4.0\n",
      "\u001b[32m✔\u001b[39m \u001b[34mreadr  \u001b[39m 2.0.2     \u001b[32m✔\u001b[39m \u001b[34mforcats\u001b[39m 0.5.1\n",
      "\n",
      "── \u001b[1mConflicts\u001b[22m ────────────────────────────────────────── tidyverse_conflicts() ──\n",
      "\u001b[31m✖\u001b[39m \u001b[34mdplyr\u001b[39m::\u001b[32mfilter()\u001b[39m masks \u001b[34mstats\u001b[39m::filter()\n",
      "\u001b[31m✖\u001b[39m \u001b[34mdplyr\u001b[39m::\u001b[32mlag()\u001b[39m    masks \u001b[34mstats\u001b[39m::lag()\n",
      "\n",
      "\n",
      "Attaching package: ‘janitor’\n",
      "\n",
      "\n",
      "The following objects are masked from ‘package:stats’:\n",
      "\n",
      "    chisq.test, fisher.test\n",
      "\n",
      "\n",
      "\n",
      "Attaching package: ‘lubridate’\n",
      "\n",
      "\n",
      "The following objects are masked from ‘package:base’:\n",
      "\n",
      "    date, intersect, setdiff, union\n",
      "\n",
      "\n"
     ]
    }
   ],
   "source": [
    "library(tidyverse)\n",
    "library(janitor)\n",
    "library(dplyr)\n",
    "library(tidyr)\n",
    "library(lubridate)\n",
    "library(ggplot2)"
   ]
  },
  {
   "cell_type": "markdown",
   "id": "74b9f48a",
   "metadata": {
    "papermill": {
     "duration": 0.104084,
     "end_time": "2022-03-08T13:13:25.354691",
     "exception": false,
     "start_time": "2022-03-08T13:13:25.250607",
     "status": "completed"
    },
    "tags": []
   },
   "source": [
    "##### **Load datasets**"
   ]
  },
  {
   "cell_type": "code",
   "execution_count": 2,
   "id": "ae9ab777",
   "metadata": {
    "execution": {
     "iopub.execute_input": "2022-03-08T13:13:25.601968Z",
     "iopub.status.busy": "2022-03-08T13:13:25.572615Z",
     "iopub.status.idle": "2022-03-08T13:14:20.909141Z",
     "shell.execute_reply": "2022-03-08T13:14:20.907866Z"
    },
    "papermill": {
     "duration": 55.448058,
     "end_time": "2022-03-08T13:14:20.909324",
     "exception": false,
     "start_time": "2022-03-08T13:13:25.461266",
     "status": "completed"
    },
    "tags": []
   },
   "outputs": [],
   "source": [
    "\n",
    "df_202004 <- read.csv(\"../input/cyclistic-bike-share/202004-divvy-tripdata.csv\")\n",
    "df_202005 <- read.csv(\"../input/cyclistic-bike-share/202005-divvy-tripdata.csv\")\n",
    "df_202006 <- read.csv(\"../input/cyclistic-bike-share/202006-divvy-tripdata.csv\")\n",
    "df_202007 <- read.csv(\"../input/cyclistic-bike-share/202007-divvy-tripdata.csv\")\n",
    "df_202008 <- read.csv(\"../input/cyclistic-bike-share/202008-divvy-tripdata.csv\")\n",
    "df_202009 <- read.csv(\"../input/cyclistic-bike-share/202009-divvy-tripdata.csv\")\n",
    "df_202010 <- read.csv(\"../input/cyclistic-bike-share/202010-divvy-tripdata.csv\")\n",
    "df_202011 <- read.csv(\"../input/cyclistic-bike-share/202011-divvy-tripdata.csv\")\n",
    "df_202012 <- read.csv(\"../input/cyclistic-bike-share/202012-divvy-tripdata.csv\")\n",
    "df_202101 <- read.csv(\"../input/cyclistic-bike-share/202101-divvy-tripdata.csv\")\n",
    "df_202102 <- read.csv(\"../input/cyclistic-bike-share/202102-divvy-tripdata.csv\")\n",
    "df_202103 <- read.csv(\"../input/cyclistic-bike-share/202103-divvy-tripdata.csv\")"
   ]
  },
  {
   "cell_type": "markdown",
   "id": "8664119e",
   "metadata": {
    "papermill": {
     "duration": 0.107248,
     "end_time": "2022-03-08T13:14:21.124741",
     "exception": false,
     "start_time": "2022-03-08T13:14:21.017493",
     "status": "completed"
    },
    "tags": []
   },
   "source": [
    "##### **Check the column names consistency for each dataframe**"
   ]
  },
  {
   "cell_type": "code",
   "execution_count": 3,
   "id": "6964f05f",
   "metadata": {
    "execution": {
     "iopub.execute_input": "2022-03-08T13:14:21.343863Z",
     "iopub.status.busy": "2022-03-08T13:14:21.341983Z",
     "iopub.status.idle": "2022-03-08T13:14:21.411193Z",
     "shell.execute_reply": "2022-03-08T13:14:21.409872Z"
    },
    "papermill": {
     "duration": 0.180756,
     "end_time": "2022-03-08T13:14:21.411329",
     "exception": false,
     "start_time": "2022-03-08T13:14:21.230573",
     "status": "completed"
    },
    "tags": []
   },
   "outputs": [
    {
     "data": {
      "text/html": [
       "<style>\n",
       ".list-inline {list-style: none; margin:0; padding: 0}\n",
       ".list-inline>li {display: inline-block}\n",
       ".list-inline>li:not(:last-child)::after {content: \"\\00b7\"; padding: 0 .5ex}\n",
       "</style>\n",
       "<ol class=list-inline><li>'ride_id'</li><li>'rideable_type'</li><li>'started_at'</li><li>'ended_at'</li><li>'start_station_name'</li><li>'start_station_id'</li><li>'end_station_name'</li><li>'end_station_id'</li><li>'start_lat'</li><li>'start_lng'</li><li>'end_lat'</li><li>'end_lng'</li><li>'member_casual'</li></ol>\n"
      ],
      "text/latex": [
       "\\begin{enumerate*}\n",
       "\\item 'ride\\_id'\n",
       "\\item 'rideable\\_type'\n",
       "\\item 'started\\_at'\n",
       "\\item 'ended\\_at'\n",
       "\\item 'start\\_station\\_name'\n",
       "\\item 'start\\_station\\_id'\n",
       "\\item 'end\\_station\\_name'\n",
       "\\item 'end\\_station\\_id'\n",
       "\\item 'start\\_lat'\n",
       "\\item 'start\\_lng'\n",
       "\\item 'end\\_lat'\n",
       "\\item 'end\\_lng'\n",
       "\\item 'member\\_casual'\n",
       "\\end{enumerate*}\n"
      ],
      "text/markdown": [
       "1. 'ride_id'\n",
       "2. 'rideable_type'\n",
       "3. 'started_at'\n",
       "4. 'ended_at'\n",
       "5. 'start_station_name'\n",
       "6. 'start_station_id'\n",
       "7. 'end_station_name'\n",
       "8. 'end_station_id'\n",
       "9. 'start_lat'\n",
       "10. 'start_lng'\n",
       "11. 'end_lat'\n",
       "12. 'end_lng'\n",
       "13. 'member_casual'\n",
       "\n",
       "\n"
      ],
      "text/plain": [
       " [1] \"ride_id\"            \"rideable_type\"      \"started_at\"        \n",
       " [4] \"ended_at\"           \"start_station_name\" \"start_station_id\"  \n",
       " [7] \"end_station_name\"   \"end_station_id\"     \"start_lat\"         \n",
       "[10] \"start_lng\"          \"end_lat\"            \"end_lng\"           \n",
       "[13] \"member_casual\"     "
      ]
     },
     "metadata": {},
     "output_type": "display_data"
    },
    {
     "data": {
      "text/html": [
       "<style>\n",
       ".list-inline {list-style: none; margin:0; padding: 0}\n",
       ".list-inline>li {display: inline-block}\n",
       ".list-inline>li:not(:last-child)::after {content: \"\\00b7\"; padding: 0 .5ex}\n",
       "</style>\n",
       "<ol class=list-inline><li>'ride_id'</li><li>'rideable_type'</li><li>'started_at'</li><li>'ended_at'</li><li>'start_station_name'</li><li>'start_station_id'</li><li>'end_station_name'</li><li>'end_station_id'</li><li>'start_lat'</li><li>'start_lng'</li><li>'end_lat'</li><li>'end_lng'</li><li>'member_casual'</li></ol>\n"
      ],
      "text/latex": [
       "\\begin{enumerate*}\n",
       "\\item 'ride\\_id'\n",
       "\\item 'rideable\\_type'\n",
       "\\item 'started\\_at'\n",
       "\\item 'ended\\_at'\n",
       "\\item 'start\\_station\\_name'\n",
       "\\item 'start\\_station\\_id'\n",
       "\\item 'end\\_station\\_name'\n",
       "\\item 'end\\_station\\_id'\n",
       "\\item 'start\\_lat'\n",
       "\\item 'start\\_lng'\n",
       "\\item 'end\\_lat'\n",
       "\\item 'end\\_lng'\n",
       "\\item 'member\\_casual'\n",
       "\\end{enumerate*}\n"
      ],
      "text/markdown": [
       "1. 'ride_id'\n",
       "2. 'rideable_type'\n",
       "3. 'started_at'\n",
       "4. 'ended_at'\n",
       "5. 'start_station_name'\n",
       "6. 'start_station_id'\n",
       "7. 'end_station_name'\n",
       "8. 'end_station_id'\n",
       "9. 'start_lat'\n",
       "10. 'start_lng'\n",
       "11. 'end_lat'\n",
       "12. 'end_lng'\n",
       "13. 'member_casual'\n",
       "\n",
       "\n"
      ],
      "text/plain": [
       " [1] \"ride_id\"            \"rideable_type\"      \"started_at\"        \n",
       " [4] \"ended_at\"           \"start_station_name\" \"start_station_id\"  \n",
       " [7] \"end_station_name\"   \"end_station_id\"     \"start_lat\"         \n",
       "[10] \"start_lng\"          \"end_lat\"            \"end_lng\"           \n",
       "[13] \"member_casual\"     "
      ]
     },
     "metadata": {},
     "output_type": "display_data"
    },
    {
     "data": {
      "text/html": [
       "<style>\n",
       ".list-inline {list-style: none; margin:0; padding: 0}\n",
       ".list-inline>li {display: inline-block}\n",
       ".list-inline>li:not(:last-child)::after {content: \"\\00b7\"; padding: 0 .5ex}\n",
       "</style>\n",
       "<ol class=list-inline><li>'ride_id'</li><li>'rideable_type'</li><li>'started_at'</li><li>'ended_at'</li><li>'start_station_name'</li><li>'start_station_id'</li><li>'end_station_name'</li><li>'end_station_id'</li><li>'start_lat'</li><li>'start_lng'</li><li>'end_lat'</li><li>'end_lng'</li><li>'member_casual'</li></ol>\n"
      ],
      "text/latex": [
       "\\begin{enumerate*}\n",
       "\\item 'ride\\_id'\n",
       "\\item 'rideable\\_type'\n",
       "\\item 'started\\_at'\n",
       "\\item 'ended\\_at'\n",
       "\\item 'start\\_station\\_name'\n",
       "\\item 'start\\_station\\_id'\n",
       "\\item 'end\\_station\\_name'\n",
       "\\item 'end\\_station\\_id'\n",
       "\\item 'start\\_lat'\n",
       "\\item 'start\\_lng'\n",
       "\\item 'end\\_lat'\n",
       "\\item 'end\\_lng'\n",
       "\\item 'member\\_casual'\n",
       "\\end{enumerate*}\n"
      ],
      "text/markdown": [
       "1. 'ride_id'\n",
       "2. 'rideable_type'\n",
       "3. 'started_at'\n",
       "4. 'ended_at'\n",
       "5. 'start_station_name'\n",
       "6. 'start_station_id'\n",
       "7. 'end_station_name'\n",
       "8. 'end_station_id'\n",
       "9. 'start_lat'\n",
       "10. 'start_lng'\n",
       "11. 'end_lat'\n",
       "12. 'end_lng'\n",
       "13. 'member_casual'\n",
       "\n",
       "\n"
      ],
      "text/plain": [
       " [1] \"ride_id\"            \"rideable_type\"      \"started_at\"        \n",
       " [4] \"ended_at\"           \"start_station_name\" \"start_station_id\"  \n",
       " [7] \"end_station_name\"   \"end_station_id\"     \"start_lat\"         \n",
       "[10] \"start_lng\"          \"end_lat\"            \"end_lng\"           \n",
       "[13] \"member_casual\"     "
      ]
     },
     "metadata": {},
     "output_type": "display_data"
    },
    {
     "data": {
      "text/html": [
       "<style>\n",
       ".list-inline {list-style: none; margin:0; padding: 0}\n",
       ".list-inline>li {display: inline-block}\n",
       ".list-inline>li:not(:last-child)::after {content: \"\\00b7\"; padding: 0 .5ex}\n",
       "</style>\n",
       "<ol class=list-inline><li>'ride_id'</li><li>'rideable_type'</li><li>'started_at'</li><li>'ended_at'</li><li>'start_station_name'</li><li>'start_station_id'</li><li>'end_station_name'</li><li>'end_station_id'</li><li>'start_lat'</li><li>'start_lng'</li><li>'end_lat'</li><li>'end_lng'</li><li>'member_casual'</li></ol>\n"
      ],
      "text/latex": [
       "\\begin{enumerate*}\n",
       "\\item 'ride\\_id'\n",
       "\\item 'rideable\\_type'\n",
       "\\item 'started\\_at'\n",
       "\\item 'ended\\_at'\n",
       "\\item 'start\\_station\\_name'\n",
       "\\item 'start\\_station\\_id'\n",
       "\\item 'end\\_station\\_name'\n",
       "\\item 'end\\_station\\_id'\n",
       "\\item 'start\\_lat'\n",
       "\\item 'start\\_lng'\n",
       "\\item 'end\\_lat'\n",
       "\\item 'end\\_lng'\n",
       "\\item 'member\\_casual'\n",
       "\\end{enumerate*}\n"
      ],
      "text/markdown": [
       "1. 'ride_id'\n",
       "2. 'rideable_type'\n",
       "3. 'started_at'\n",
       "4. 'ended_at'\n",
       "5. 'start_station_name'\n",
       "6. 'start_station_id'\n",
       "7. 'end_station_name'\n",
       "8. 'end_station_id'\n",
       "9. 'start_lat'\n",
       "10. 'start_lng'\n",
       "11. 'end_lat'\n",
       "12. 'end_lng'\n",
       "13. 'member_casual'\n",
       "\n",
       "\n"
      ],
      "text/plain": [
       " [1] \"ride_id\"            \"rideable_type\"      \"started_at\"        \n",
       " [4] \"ended_at\"           \"start_station_name\" \"start_station_id\"  \n",
       " [7] \"end_station_name\"   \"end_station_id\"     \"start_lat\"         \n",
       "[10] \"start_lng\"          \"end_lat\"            \"end_lng\"           \n",
       "[13] \"member_casual\"     "
      ]
     },
     "metadata": {},
     "output_type": "display_data"
    },
    {
     "data": {
      "text/html": [
       "<style>\n",
       ".list-inline {list-style: none; margin:0; padding: 0}\n",
       ".list-inline>li {display: inline-block}\n",
       ".list-inline>li:not(:last-child)::after {content: \"\\00b7\"; padding: 0 .5ex}\n",
       "</style>\n",
       "<ol class=list-inline><li>'ride_id'</li><li>'rideable_type'</li><li>'started_at'</li><li>'ended_at'</li><li>'start_station_name'</li><li>'start_station_id'</li><li>'end_station_name'</li><li>'end_station_id'</li><li>'start_lat'</li><li>'start_lng'</li><li>'end_lat'</li><li>'end_lng'</li><li>'member_casual'</li></ol>\n"
      ],
      "text/latex": [
       "\\begin{enumerate*}\n",
       "\\item 'ride\\_id'\n",
       "\\item 'rideable\\_type'\n",
       "\\item 'started\\_at'\n",
       "\\item 'ended\\_at'\n",
       "\\item 'start\\_station\\_name'\n",
       "\\item 'start\\_station\\_id'\n",
       "\\item 'end\\_station\\_name'\n",
       "\\item 'end\\_station\\_id'\n",
       "\\item 'start\\_lat'\n",
       "\\item 'start\\_lng'\n",
       "\\item 'end\\_lat'\n",
       "\\item 'end\\_lng'\n",
       "\\item 'member\\_casual'\n",
       "\\end{enumerate*}\n"
      ],
      "text/markdown": [
       "1. 'ride_id'\n",
       "2. 'rideable_type'\n",
       "3. 'started_at'\n",
       "4. 'ended_at'\n",
       "5. 'start_station_name'\n",
       "6. 'start_station_id'\n",
       "7. 'end_station_name'\n",
       "8. 'end_station_id'\n",
       "9. 'start_lat'\n",
       "10. 'start_lng'\n",
       "11. 'end_lat'\n",
       "12. 'end_lng'\n",
       "13. 'member_casual'\n",
       "\n",
       "\n"
      ],
      "text/plain": [
       " [1] \"ride_id\"            \"rideable_type\"      \"started_at\"        \n",
       " [4] \"ended_at\"           \"start_station_name\" \"start_station_id\"  \n",
       " [7] \"end_station_name\"   \"end_station_id\"     \"start_lat\"         \n",
       "[10] \"start_lng\"          \"end_lat\"            \"end_lng\"           \n",
       "[13] \"member_casual\"     "
      ]
     },
     "metadata": {},
     "output_type": "display_data"
    },
    {
     "data": {
      "text/html": [
       "<style>\n",
       ".list-inline {list-style: none; margin:0; padding: 0}\n",
       ".list-inline>li {display: inline-block}\n",
       ".list-inline>li:not(:last-child)::after {content: \"\\00b7\"; padding: 0 .5ex}\n",
       "</style>\n",
       "<ol class=list-inline><li>'ride_id'</li><li>'rideable_type'</li><li>'started_at'</li><li>'ended_at'</li><li>'start_station_name'</li><li>'start_station_id'</li><li>'end_station_name'</li><li>'end_station_id'</li><li>'start_lat'</li><li>'start_lng'</li><li>'end_lat'</li><li>'end_lng'</li><li>'member_casual'</li></ol>\n"
      ],
      "text/latex": [
       "\\begin{enumerate*}\n",
       "\\item 'ride\\_id'\n",
       "\\item 'rideable\\_type'\n",
       "\\item 'started\\_at'\n",
       "\\item 'ended\\_at'\n",
       "\\item 'start\\_station\\_name'\n",
       "\\item 'start\\_station\\_id'\n",
       "\\item 'end\\_station\\_name'\n",
       "\\item 'end\\_station\\_id'\n",
       "\\item 'start\\_lat'\n",
       "\\item 'start\\_lng'\n",
       "\\item 'end\\_lat'\n",
       "\\item 'end\\_lng'\n",
       "\\item 'member\\_casual'\n",
       "\\end{enumerate*}\n"
      ],
      "text/markdown": [
       "1. 'ride_id'\n",
       "2. 'rideable_type'\n",
       "3. 'started_at'\n",
       "4. 'ended_at'\n",
       "5. 'start_station_name'\n",
       "6. 'start_station_id'\n",
       "7. 'end_station_name'\n",
       "8. 'end_station_id'\n",
       "9. 'start_lat'\n",
       "10. 'start_lng'\n",
       "11. 'end_lat'\n",
       "12. 'end_lng'\n",
       "13. 'member_casual'\n",
       "\n",
       "\n"
      ],
      "text/plain": [
       " [1] \"ride_id\"            \"rideable_type\"      \"started_at\"        \n",
       " [4] \"ended_at\"           \"start_station_name\" \"start_station_id\"  \n",
       " [7] \"end_station_name\"   \"end_station_id\"     \"start_lat\"         \n",
       "[10] \"start_lng\"          \"end_lat\"            \"end_lng\"           \n",
       "[13] \"member_casual\"     "
      ]
     },
     "metadata": {},
     "output_type": "display_data"
    },
    {
     "data": {
      "text/html": [
       "<style>\n",
       ".list-inline {list-style: none; margin:0; padding: 0}\n",
       ".list-inline>li {display: inline-block}\n",
       ".list-inline>li:not(:last-child)::after {content: \"\\00b7\"; padding: 0 .5ex}\n",
       "</style>\n",
       "<ol class=list-inline><li>'ride_id'</li><li>'rideable_type'</li><li>'started_at'</li><li>'ended_at'</li><li>'start_station_name'</li><li>'start_station_id'</li><li>'end_station_name'</li><li>'end_station_id'</li><li>'start_lat'</li><li>'start_lng'</li><li>'end_lat'</li><li>'end_lng'</li><li>'member_casual'</li></ol>\n"
      ],
      "text/latex": [
       "\\begin{enumerate*}\n",
       "\\item 'ride\\_id'\n",
       "\\item 'rideable\\_type'\n",
       "\\item 'started\\_at'\n",
       "\\item 'ended\\_at'\n",
       "\\item 'start\\_station\\_name'\n",
       "\\item 'start\\_station\\_id'\n",
       "\\item 'end\\_station\\_name'\n",
       "\\item 'end\\_station\\_id'\n",
       "\\item 'start\\_lat'\n",
       "\\item 'start\\_lng'\n",
       "\\item 'end\\_lat'\n",
       "\\item 'end\\_lng'\n",
       "\\item 'member\\_casual'\n",
       "\\end{enumerate*}\n"
      ],
      "text/markdown": [
       "1. 'ride_id'\n",
       "2. 'rideable_type'\n",
       "3. 'started_at'\n",
       "4. 'ended_at'\n",
       "5. 'start_station_name'\n",
       "6. 'start_station_id'\n",
       "7. 'end_station_name'\n",
       "8. 'end_station_id'\n",
       "9. 'start_lat'\n",
       "10. 'start_lng'\n",
       "11. 'end_lat'\n",
       "12. 'end_lng'\n",
       "13. 'member_casual'\n",
       "\n",
       "\n"
      ],
      "text/plain": [
       " [1] \"ride_id\"            \"rideable_type\"      \"started_at\"        \n",
       " [4] \"ended_at\"           \"start_station_name\" \"start_station_id\"  \n",
       " [7] \"end_station_name\"   \"end_station_id\"     \"start_lat\"         \n",
       "[10] \"start_lng\"          \"end_lat\"            \"end_lng\"           \n",
       "[13] \"member_casual\"     "
      ]
     },
     "metadata": {},
     "output_type": "display_data"
    },
    {
     "data": {
      "text/html": [
       "<style>\n",
       ".list-inline {list-style: none; margin:0; padding: 0}\n",
       ".list-inline>li {display: inline-block}\n",
       ".list-inline>li:not(:last-child)::after {content: \"\\00b7\"; padding: 0 .5ex}\n",
       "</style>\n",
       "<ol class=list-inline><li>'ride_id'</li><li>'rideable_type'</li><li>'started_at'</li><li>'ended_at'</li><li>'start_station_name'</li><li>'start_station_id'</li><li>'end_station_name'</li><li>'end_station_id'</li><li>'start_lat'</li><li>'start_lng'</li><li>'end_lat'</li><li>'end_lng'</li><li>'member_casual'</li></ol>\n"
      ],
      "text/latex": [
       "\\begin{enumerate*}\n",
       "\\item 'ride\\_id'\n",
       "\\item 'rideable\\_type'\n",
       "\\item 'started\\_at'\n",
       "\\item 'ended\\_at'\n",
       "\\item 'start\\_station\\_name'\n",
       "\\item 'start\\_station\\_id'\n",
       "\\item 'end\\_station\\_name'\n",
       "\\item 'end\\_station\\_id'\n",
       "\\item 'start\\_lat'\n",
       "\\item 'start\\_lng'\n",
       "\\item 'end\\_lat'\n",
       "\\item 'end\\_lng'\n",
       "\\item 'member\\_casual'\n",
       "\\end{enumerate*}\n"
      ],
      "text/markdown": [
       "1. 'ride_id'\n",
       "2. 'rideable_type'\n",
       "3. 'started_at'\n",
       "4. 'ended_at'\n",
       "5. 'start_station_name'\n",
       "6. 'start_station_id'\n",
       "7. 'end_station_name'\n",
       "8. 'end_station_id'\n",
       "9. 'start_lat'\n",
       "10. 'start_lng'\n",
       "11. 'end_lat'\n",
       "12. 'end_lng'\n",
       "13. 'member_casual'\n",
       "\n",
       "\n"
      ],
      "text/plain": [
       " [1] \"ride_id\"            \"rideable_type\"      \"started_at\"        \n",
       " [4] \"ended_at\"           \"start_station_name\" \"start_station_id\"  \n",
       " [7] \"end_station_name\"   \"end_station_id\"     \"start_lat\"         \n",
       "[10] \"start_lng\"          \"end_lat\"            \"end_lng\"           \n",
       "[13] \"member_casual\"     "
      ]
     },
     "metadata": {},
     "output_type": "display_data"
    },
    {
     "data": {
      "text/html": [
       "<style>\n",
       ".list-inline {list-style: none; margin:0; padding: 0}\n",
       ".list-inline>li {display: inline-block}\n",
       ".list-inline>li:not(:last-child)::after {content: \"\\00b7\"; padding: 0 .5ex}\n",
       "</style>\n",
       "<ol class=list-inline><li>'ride_id'</li><li>'rideable_type'</li><li>'started_at'</li><li>'ended_at'</li><li>'start_station_name'</li><li>'start_station_id'</li><li>'end_station_name'</li><li>'end_station_id'</li><li>'start_lat'</li><li>'start_lng'</li><li>'end_lat'</li><li>'end_lng'</li><li>'member_casual'</li></ol>\n"
      ],
      "text/latex": [
       "\\begin{enumerate*}\n",
       "\\item 'ride\\_id'\n",
       "\\item 'rideable\\_type'\n",
       "\\item 'started\\_at'\n",
       "\\item 'ended\\_at'\n",
       "\\item 'start\\_station\\_name'\n",
       "\\item 'start\\_station\\_id'\n",
       "\\item 'end\\_station\\_name'\n",
       "\\item 'end\\_station\\_id'\n",
       "\\item 'start\\_lat'\n",
       "\\item 'start\\_lng'\n",
       "\\item 'end\\_lat'\n",
       "\\item 'end\\_lng'\n",
       "\\item 'member\\_casual'\n",
       "\\end{enumerate*}\n"
      ],
      "text/markdown": [
       "1. 'ride_id'\n",
       "2. 'rideable_type'\n",
       "3. 'started_at'\n",
       "4. 'ended_at'\n",
       "5. 'start_station_name'\n",
       "6. 'start_station_id'\n",
       "7. 'end_station_name'\n",
       "8. 'end_station_id'\n",
       "9. 'start_lat'\n",
       "10. 'start_lng'\n",
       "11. 'end_lat'\n",
       "12. 'end_lng'\n",
       "13. 'member_casual'\n",
       "\n",
       "\n"
      ],
      "text/plain": [
       " [1] \"ride_id\"            \"rideable_type\"      \"started_at\"        \n",
       " [4] \"ended_at\"           \"start_station_name\" \"start_station_id\"  \n",
       " [7] \"end_station_name\"   \"end_station_id\"     \"start_lat\"         \n",
       "[10] \"start_lng\"          \"end_lat\"            \"end_lng\"           \n",
       "[13] \"member_casual\"     "
      ]
     },
     "metadata": {},
     "output_type": "display_data"
    },
    {
     "data": {
      "text/html": [
       "<style>\n",
       ".list-inline {list-style: none; margin:0; padding: 0}\n",
       ".list-inline>li {display: inline-block}\n",
       ".list-inline>li:not(:last-child)::after {content: \"\\00b7\"; padding: 0 .5ex}\n",
       "</style>\n",
       "<ol class=list-inline><li>'ride_id'</li><li>'rideable_type'</li><li>'started_at'</li><li>'ended_at'</li><li>'start_station_name'</li><li>'start_station_id'</li><li>'end_station_name'</li><li>'end_station_id'</li><li>'start_lat'</li><li>'start_lng'</li><li>'end_lat'</li><li>'end_lng'</li><li>'member_casual'</li></ol>\n"
      ],
      "text/latex": [
       "\\begin{enumerate*}\n",
       "\\item 'ride\\_id'\n",
       "\\item 'rideable\\_type'\n",
       "\\item 'started\\_at'\n",
       "\\item 'ended\\_at'\n",
       "\\item 'start\\_station\\_name'\n",
       "\\item 'start\\_station\\_id'\n",
       "\\item 'end\\_station\\_name'\n",
       "\\item 'end\\_station\\_id'\n",
       "\\item 'start\\_lat'\n",
       "\\item 'start\\_lng'\n",
       "\\item 'end\\_lat'\n",
       "\\item 'end\\_lng'\n",
       "\\item 'member\\_casual'\n",
       "\\end{enumerate*}\n"
      ],
      "text/markdown": [
       "1. 'ride_id'\n",
       "2. 'rideable_type'\n",
       "3. 'started_at'\n",
       "4. 'ended_at'\n",
       "5. 'start_station_name'\n",
       "6. 'start_station_id'\n",
       "7. 'end_station_name'\n",
       "8. 'end_station_id'\n",
       "9. 'start_lat'\n",
       "10. 'start_lng'\n",
       "11. 'end_lat'\n",
       "12. 'end_lng'\n",
       "13. 'member_casual'\n",
       "\n",
       "\n"
      ],
      "text/plain": [
       " [1] \"ride_id\"            \"rideable_type\"      \"started_at\"        \n",
       " [4] \"ended_at\"           \"start_station_name\" \"start_station_id\"  \n",
       " [7] \"end_station_name\"   \"end_station_id\"     \"start_lat\"         \n",
       "[10] \"start_lng\"          \"end_lat\"            \"end_lng\"           \n",
       "[13] \"member_casual\"     "
      ]
     },
     "metadata": {},
     "output_type": "display_data"
    },
    {
     "data": {
      "text/html": [
       "<style>\n",
       ".list-inline {list-style: none; margin:0; padding: 0}\n",
       ".list-inline>li {display: inline-block}\n",
       ".list-inline>li:not(:last-child)::after {content: \"\\00b7\"; padding: 0 .5ex}\n",
       "</style>\n",
       "<ol class=list-inline><li>'ride_id'</li><li>'rideable_type'</li><li>'started_at'</li><li>'ended_at'</li><li>'start_station_name'</li><li>'start_station_id'</li><li>'end_station_name'</li><li>'end_station_id'</li><li>'start_lat'</li><li>'start_lng'</li><li>'end_lat'</li><li>'end_lng'</li><li>'member_casual'</li></ol>\n"
      ],
      "text/latex": [
       "\\begin{enumerate*}\n",
       "\\item 'ride\\_id'\n",
       "\\item 'rideable\\_type'\n",
       "\\item 'started\\_at'\n",
       "\\item 'ended\\_at'\n",
       "\\item 'start\\_station\\_name'\n",
       "\\item 'start\\_station\\_id'\n",
       "\\item 'end\\_station\\_name'\n",
       "\\item 'end\\_station\\_id'\n",
       "\\item 'start\\_lat'\n",
       "\\item 'start\\_lng'\n",
       "\\item 'end\\_lat'\n",
       "\\item 'end\\_lng'\n",
       "\\item 'member\\_casual'\n",
       "\\end{enumerate*}\n"
      ],
      "text/markdown": [
       "1. 'ride_id'\n",
       "2. 'rideable_type'\n",
       "3. 'started_at'\n",
       "4. 'ended_at'\n",
       "5. 'start_station_name'\n",
       "6. 'start_station_id'\n",
       "7. 'end_station_name'\n",
       "8. 'end_station_id'\n",
       "9. 'start_lat'\n",
       "10. 'start_lng'\n",
       "11. 'end_lat'\n",
       "12. 'end_lng'\n",
       "13. 'member_casual'\n",
       "\n",
       "\n"
      ],
      "text/plain": [
       " [1] \"ride_id\"            \"rideable_type\"      \"started_at\"        \n",
       " [4] \"ended_at\"           \"start_station_name\" \"start_station_id\"  \n",
       " [7] \"end_station_name\"   \"end_station_id\"     \"start_lat\"         \n",
       "[10] \"start_lng\"          \"end_lat\"            \"end_lng\"           \n",
       "[13] \"member_casual\"     "
      ]
     },
     "metadata": {},
     "output_type": "display_data"
    },
    {
     "data": {
      "text/html": [
       "<style>\n",
       ".list-inline {list-style: none; margin:0; padding: 0}\n",
       ".list-inline>li {display: inline-block}\n",
       ".list-inline>li:not(:last-child)::after {content: \"\\00b7\"; padding: 0 .5ex}\n",
       "</style>\n",
       "<ol class=list-inline><li>'ride_id'</li><li>'rideable_type'</li><li>'started_at'</li><li>'ended_at'</li><li>'start_station_name'</li><li>'start_station_id'</li><li>'end_station_name'</li><li>'end_station_id'</li><li>'start_lat'</li><li>'start_lng'</li><li>'end_lat'</li><li>'end_lng'</li><li>'member_casual'</li></ol>\n"
      ],
      "text/latex": [
       "\\begin{enumerate*}\n",
       "\\item 'ride\\_id'\n",
       "\\item 'rideable\\_type'\n",
       "\\item 'started\\_at'\n",
       "\\item 'ended\\_at'\n",
       "\\item 'start\\_station\\_name'\n",
       "\\item 'start\\_station\\_id'\n",
       "\\item 'end\\_station\\_name'\n",
       "\\item 'end\\_station\\_id'\n",
       "\\item 'start\\_lat'\n",
       "\\item 'start\\_lng'\n",
       "\\item 'end\\_lat'\n",
       "\\item 'end\\_lng'\n",
       "\\item 'member\\_casual'\n",
       "\\end{enumerate*}\n"
      ],
      "text/markdown": [
       "1. 'ride_id'\n",
       "2. 'rideable_type'\n",
       "3. 'started_at'\n",
       "4. 'ended_at'\n",
       "5. 'start_station_name'\n",
       "6. 'start_station_id'\n",
       "7. 'end_station_name'\n",
       "8. 'end_station_id'\n",
       "9. 'start_lat'\n",
       "10. 'start_lng'\n",
       "11. 'end_lat'\n",
       "12. 'end_lng'\n",
       "13. 'member_casual'\n",
       "\n",
       "\n"
      ],
      "text/plain": [
       " [1] \"ride_id\"            \"rideable_type\"      \"started_at\"        \n",
       " [4] \"ended_at\"           \"start_station_name\" \"start_station_id\"  \n",
       " [7] \"end_station_name\"   \"end_station_id\"     \"start_lat\"         \n",
       "[10] \"start_lng\"          \"end_lat\"            \"end_lng\"           \n",
       "[13] \"member_casual\"     "
      ]
     },
     "metadata": {},
     "output_type": "display_data"
    }
   ],
   "source": [
    "colnames(df_202004)\n",
    "colnames(df_202005)\n",
    "colnames(df_202006)\n",
    "colnames(df_202007)\n",
    "colnames(df_202008)\n",
    "colnames(df_202009)\n",
    "colnames(df_202010)\n",
    "colnames(df_202011)\n",
    "colnames(df_202012)\n",
    "colnames(df_202101)\n",
    "colnames(df_202102)\n",
    "colnames(df_202103)"
   ]
  },
  {
   "cell_type": "markdown",
   "id": "d9d37f78",
   "metadata": {
    "papermill": {
     "duration": 0.135551,
     "end_time": "2022-03-08T13:14:21.682153",
     "exception": false,
     "start_time": "2022-03-08T13:14:21.546602",
     "status": "completed"
    },
    "tags": []
   },
   "source": [
    "##### **Observation**\n",
    "We found that all the column names is same for all the dataframes.\n",
    "\n",
    "##### **Find out the structure of data to remove any irregualarity**"
   ]
  },
  {
   "cell_type": "code",
   "execution_count": 4,
   "id": "f19b97cc",
   "metadata": {
    "execution": {
     "iopub.execute_input": "2022-03-08T13:14:21.958956Z",
     "iopub.status.busy": "2022-03-08T13:14:21.956941Z",
     "iopub.status.idle": "2022-03-08T13:14:22.239482Z",
     "shell.execute_reply": "2022-03-08T13:14:22.237392Z"
    },
    "papermill": {
     "duration": 0.421743,
     "end_time": "2022-03-08T13:14:22.239610",
     "exception": false,
     "start_time": "2022-03-08T13:14:21.817867",
     "status": "completed"
    },
    "tags": []
   },
   "outputs": [
    {
     "name": "stdout",
     "output_type": "stream",
     "text": [
      "'data.frame':\t84776 obs. of  13 variables:\n",
      " $ ride_id           : chr  \"A847FADBBC638E45\" \"5405B80E996FF60D\" \"5DD24A79A4E006F4\" \"2A59BBDF5CDBA725\" ...\n",
      " $ rideable_type     : chr  \"docked_bike\" \"docked_bike\" \"docked_bike\" \"docked_bike\" ...\n",
      " $ started_at        : chr  \"2020-04-26 17:45:14\" \"2020-04-17 17:08:54\" \"2020-04-01 17:54:13\" \"2020-04-07 12:50:19\" ...\n",
      " $ ended_at          : chr  \"2020-04-26 18:12:03\" \"2020-04-17 17:17:03\" \"2020-04-01 18:08:36\" \"2020-04-07 13:02:31\" ...\n",
      " $ start_station_name: chr  \"Eckhart Park\" \"Drake Ave & Fullerton Ave\" \"McClurg Ct & Erie St\" \"California Ave & Division St\" ...\n",
      " $ start_station_id  : int  86 503 142 216 125 173 35 434 627 377 ...\n",
      " $ end_station_name  : chr  \"Lincoln Ave & Diversey Pkwy\" \"Kosciuszko Park\" \"Indiana Ave & Roosevelt Rd\" \"Wood St & Augusta Blvd\" ...\n",
      " $ end_station_id    : int  152 499 255 657 323 35 635 382 359 508 ...\n",
      " $ start_lat         : num  41.9 41.9 41.9 41.9 41.9 ...\n",
      " $ start_lng         : num  -87.7 -87.7 -87.6 -87.7 -87.6 ...\n",
      " $ end_lat           : num  41.9 41.9 41.9 41.9 42 ...\n",
      " $ end_lng           : num  -87.7 -87.7 -87.6 -87.7 -87.7 ...\n",
      " $ member_casual     : chr  \"member\" \"member\" \"member\" \"member\" ...\n",
      "'data.frame':\t200274 obs. of  13 variables:\n",
      " $ ride_id           : chr  \"02668AD35674B983\" \"7A50CCAF1EDDB28F\" \"2FFCDFDB91FE9A52\" \"58991CF1DB75BA84\" ...\n",
      " $ rideable_type     : chr  \"docked_bike\" \"docked_bike\" \"docked_bike\" \"docked_bike\" ...\n",
      " $ started_at        : chr  \"2020-05-27 10:03:52\" \"2020-05-25 10:47:11\" \"2020-05-02 14:11:03\" \"2020-05-02 16:25:36\" ...\n",
      " $ ended_at          : chr  \"2020-05-27 10:16:49\" \"2020-05-25 11:05:40\" \"2020-05-02 15:48:21\" \"2020-05-02 16:39:28\" ...\n",
      " $ start_station_name: chr  \"Franklin St & Jackson Blvd\" \"Clark St & Wrightwood Ave\" \"Kedzie Ave & Milwaukee Ave\" \"Clarendon Ave & Leland Ave\" ...\n",
      " $ start_station_id  : int  36 340 260 251 261 206 261 180 331 219 ...\n",
      " $ end_station_name  : chr  \"Wabash Ave & Grand Ave\" \"Clark St & Leland Ave\" \"Kedzie Ave & Milwaukee Ave\" \"Lake Shore Dr & Wellington Ave\" ...\n",
      " $ end_station_id    : int  199 326 260 157 206 22 261 180 300 305 ...\n",
      " $ start_lat         : num  41.9 41.9 41.9 42 41.9 ...\n",
      " $ start_lng         : num  -87.6 -87.6 -87.7 -87.7 -87.7 ...\n",
      " $ end_lat           : num  41.9 42 41.9 41.9 41.8 ...\n",
      " $ end_lng           : num  -87.6 -87.7 -87.7 -87.6 -87.6 ...\n",
      " $ member_casual     : chr  \"member\" \"casual\" \"casual\" \"casual\" ...\n",
      "'data.frame':\t343005 obs. of  13 variables:\n",
      " $ ride_id           : chr  \"8CD5DE2C2B6C4CFC\" \"9A191EB2C751D85D\" \"F37D14B0B5659BCF\" \"C41237B506E85FA1\" ...\n",
      " $ rideable_type     : chr  \"docked_bike\" \"docked_bike\" \"docked_bike\" \"docked_bike\" ...\n",
      " $ started_at        : chr  \"2020-06-13 23:24:48\" \"2020-06-26 07:26:10\" \"2020-06-23 17:12:41\" \"2020-06-20 01:09:35\" ...\n",
      " $ ended_at          : chr  \"2020-06-13 23:36:55\" \"2020-06-26 07:31:58\" \"2020-06-23 17:21:14\" \"2020-06-20 01:28:24\" ...\n",
      " $ start_station_name: chr  \"Wilton Ave & Belmont Ave\" \"Federal St & Polk St\" \"Daley Center Plaza\" \"Broadway & Cornelia Ave\" ...\n",
      " $ start_station_id  : int  117 41 81 303 327 327 41 115 338 84 ...\n",
      " $ end_station_name  : chr  \"Damen Ave & Clybourn Ave\" \"Daley Center Plaza\" \"State St & Harrison St\" \"Broadway & Berwyn Ave\" ...\n",
      " $ end_station_id    : int  163 81 5 294 117 117 81 303 164 53 ...\n",
      " $ start_lat         : num  41.9 41.9 41.9 41.9 41.9 ...\n",
      " $ start_lng         : num  -87.7 -87.6 -87.6 -87.6 -87.7 ...\n",
      " $ end_lat           : num  41.9 41.9 41.9 42 41.9 ...\n",
      " $ end_lng           : num  -87.7 -87.6 -87.6 -87.7 -87.7 ...\n",
      " $ member_casual     : chr  \"casual\" \"member\" \"member\" \"casual\" ...\n",
      "'data.frame':\t551480 obs. of  13 variables:\n",
      " $ ride_id           : chr  \"762198876D69004D\" \"BEC9C9FBA0D4CF1B\" \"D2FD8EA432C77EC1\" \"54AE594E20B35881\" ...\n",
      " $ rideable_type     : chr  \"docked_bike\" \"docked_bike\" \"docked_bike\" \"docked_bike\" ...\n",
      " $ started_at        : chr  \"2020-07-09 15:22:02\" \"2020-07-24 23:56:30\" \"2020-07-08 19:49:07\" \"2020-07-17 19:06:42\" ...\n",
      " $ ended_at          : chr  \"2020-07-09 15:25:52\" \"2020-07-25 00:20:17\" \"2020-07-08 19:56:22\" \"2020-07-17 19:27:38\" ...\n",
      " $ start_station_name: chr  \"Ritchie Ct & Banks St\" \"Halsted St & Roscoe St\" \"Lake Shore Dr & Diversey Pkwy\" \"LaSalle St & Illinois St\" ...\n",
      " $ start_station_id  : int  180 299 329 181 268 635 113 211 176 31 ...\n",
      " $ end_station_name  : chr  \"Wells St & Evergreen Ave\" \"Broadway & Ridge Ave\" \"Clark St & Wellington Ave\" \"Clark St & Armitage Ave\" ...\n",
      " $ end_station_id    : int  291 461 156 94 301 289 140 31 191 142 ...\n",
      " $ start_lat         : num  41.9 41.9 41.9 41.9 41.9 ...\n",
      " $ start_lng         : num  -87.6 -87.6 -87.6 -87.6 -87.6 ...\n",
      " $ end_lat           : num  41.9 42 41.9 41.9 41.9 ...\n",
      " $ end_lng           : num  -87.6 -87.7 -87.6 -87.6 -87.6 ...\n",
      " $ member_casual     : chr  \"member\" \"member\" \"casual\" \"casual\" ...\n",
      "'data.frame':\t622361 obs. of  13 variables:\n",
      " $ ride_id           : chr  \"322BD23D287743ED\" \"2A3AEF1AB9054D8B\" \"67DC1D133E8B5816\" \"C79FBBD412E578A7\" ...\n",
      " $ rideable_type     : chr  \"docked_bike\" \"electric_bike\" \"electric_bike\" \"electric_bike\" ...\n",
      " $ started_at        : chr  \"2020-08-20 18:08:14\" \"2020-08-27 18:46:04\" \"2020-08-26 19:44:14\" \"2020-08-27 12:05:41\" ...\n",
      " $ ended_at          : chr  \"2020-08-20 18:17:51\" \"2020-08-27 19:54:51\" \"2020-08-26 21:53:07\" \"2020-08-27 12:53:45\" ...\n",
      " $ start_station_name: chr  \"Lake Shore Dr & Diversey Pkwy\" \"Michigan Ave & 14th St\" \"Columbus Dr & Randolph St\" \"Daley Center Plaza\" ...\n",
      " $ start_station_id  : int  329 168 195 81 658 658 196 67 153 177 ...\n",
      " $ end_station_name  : chr  \"Clark St & Lincoln Ave\" \"Michigan Ave & 14th St\" \"State St & Randolph St\" \"State St & Kinzie St\" ...\n",
      " $ end_station_id    : int  141 168 44 47 658 658 49 229 225 305 ...\n",
      " $ start_lat         : num  41.9 41.9 41.9 41.9 41.9 ...\n",
      " $ start_lng         : num  -87.6 -87.6 -87.6 -87.6 -87.7 ...\n",
      " $ end_lat           : num  41.9 41.9 41.9 41.9 41.9 ...\n",
      " $ end_lng           : num  -87.6 -87.6 -87.6 -87.6 -87.7 ...\n",
      " $ member_casual     : chr  \"member\" \"casual\" \"casual\" \"casual\" ...\n",
      "'data.frame':\t532958 obs. of  13 variables:\n",
      " $ ride_id           : chr  \"2B22BD5F95FB2629\" \"A7FB70B4AFC6CAF2\" \"86057FA01BAC778E\" \"57F6DC9A153DB98C\" ...\n",
      " $ rideable_type     : chr  \"electric_bike\" \"electric_bike\" \"electric_bike\" \"electric_bike\" ...\n",
      " $ started_at        : chr  \"2020-09-17 14:27:11\" \"2020-09-17 15:07:31\" \"2020-09-17 15:09:04\" \"2020-09-17 18:10:46\" ...\n",
      " $ ended_at          : chr  \"2020-09-17 14:44:24\" \"2020-09-17 15:07:45\" \"2020-09-17 15:09:35\" \"2020-09-17 18:35:49\" ...\n",
      " $ start_station_name: chr  \"Michigan Ave & Lake St\" \"W Oakdale Ave & N Broadway\" \"W Oakdale Ave & N Broadway\" \"Ashland Ave & Belle Plaine Ave\" ...\n",
      " $ start_station_id  : int  52 NA NA 246 24 94 291 NA NA NA ...\n",
      " $ end_station_name  : chr  \"Green St & Randolph St\" \"W Oakdale Ave & N Broadway\" \"W Oakdale Ave & N Broadway\" \"Montrose Harbor\" ...\n",
      " $ end_station_id    : int  112 NA NA 249 24 NA 256 NA NA NA ...\n",
      " $ start_lat         : num  41.9 41.9 41.9 42 41.9 ...\n",
      " $ start_lng         : num  -87.6 -87.6 -87.6 -87.7 -87.6 ...\n",
      " $ end_lat           : num  41.9 41.9 41.9 42 41.9 ...\n",
      " $ end_lng           : num  -87.6 -87.6 -87.6 -87.6 -87.6 ...\n",
      " $ member_casual     : chr  \"casual\" \"casual\" \"casual\" \"casual\" ...\n",
      "'data.frame':\t388653 obs. of  13 variables:\n",
      " $ ride_id           : chr  \"ACB6B40CF5B9044C\" \"DF450C72FD109C01\" \"B6396B54A15AC0DF\" \"44A4AEE261B9E854\" ...\n",
      " $ rideable_type     : chr  \"electric_bike\" \"electric_bike\" \"electric_bike\" \"electric_bike\" ...\n",
      " $ started_at        : chr  \"2020-10-31 19:39:43\" \"2020-10-31 23:50:08\" \"2020-10-31 23:00:01\" \"2020-10-31 22:16:43\" ...\n",
      " $ ended_at          : chr  \"2020-10-31 19:57:12\" \"2020-11-01 00:04:16\" \"2020-10-31 23:08:22\" \"2020-10-31 22:19:35\" ...\n",
      " $ start_station_name: chr  \"Lakeview Ave & Fullerton Pkwy\" \"Southport Ave & Waveland Ave\" \"Stony Island Ave & 67th St\" \"Clark St & Grace St\" ...\n",
      " $ start_station_id  : int  313 227 102 165 190 359 313 125 NA 174 ...\n",
      " $ end_station_name  : chr  \"Rush St & Hubbard St\" \"Kedzie Ave & Milwaukee Ave\" \"University Ave & 57th St\" \"Broadway & Sheridan Rd\" ...\n",
      " $ end_station_id    : int  125 260 423 256 185 53 125 313 199 635 ...\n",
      " $ start_lat         : num  41.9 41.9 41.8 42 41.9 ...\n",
      " $ start_lng         : num  -87.6 -87.7 -87.6 -87.7 -87.7 ...\n",
      " $ end_lat           : num  41.9 41.9 41.8 42 41.9 ...\n",
      " $ end_lng           : num  -87.6 -87.7 -87.6 -87.7 -87.7 ...\n",
      " $ member_casual     : chr  \"casual\" \"casual\" \"casual\" \"casual\" ...\n",
      "'data.frame':\t259716 obs. of  13 variables:\n",
      " $ ride_id           : chr  \"BD0A6FF6FFF9B921\" \"96A7A7A4BDE4F82D\" \"C61526D06582BDC5\" \"E533E89C32080B9E\" ...\n",
      " $ rideable_type     : chr  \"electric_bike\" \"electric_bike\" \"electric_bike\" \"electric_bike\" ...\n",
      " $ started_at        : chr  \"2020-11-01 13:36:00\" \"2020-11-01 10:03:26\" \"2020-11-01 00:34:05\" \"2020-11-01 00:45:16\" ...\n",
      " $ ended_at          : chr  \"2020-11-01 13:45:40\" \"2020-11-01 10:14:45\" \"2020-11-01 01:03:06\" \"2020-11-01 00:54:31\" ...\n",
      " $ start_station_name: chr  \"Dearborn St & Erie St\" \"Franklin St & Illinois St\" \"Lake Shore Dr & Monroe St\" \"Leavitt St & Chicago Ave\" ...\n",
      " $ start_station_id  : int  110 672 76 659 2 72 76 NA 58 394 ...\n",
      " $ end_station_name  : chr  \"St. Clair St & Erie St\" \"Noble St & Milwaukee Ave\" \"Federal St & Polk St\" \"Stave St & Armitage Ave\" ...\n",
      " $ end_station_id    : int  211 29 41 185 2 76 72 NA 288 273 ...\n",
      " $ start_lat         : num  41.9 41.9 41.9 41.9 41.9 ...\n",
      " $ start_lng         : num  -87.6 -87.6 -87.6 -87.7 -87.6 ...\n",
      " $ end_lat           : num  41.9 41.9 41.9 41.9 41.9 ...\n",
      " $ end_lng           : num  -87.6 -87.7 -87.6 -87.7 -87.6 ...\n",
      " $ member_casual     : chr  \"casual\" \"casual\" \"casual\" \"casual\" ...\n",
      "'data.frame':\t131573 obs. of  13 variables:\n",
      " $ ride_id           : chr  \"70B6A9A437D4C30D\" \"158A465D4E74C54A\" \"5262016E0F1F2F9A\" \"BE119628E44F871E\" ...\n",
      " $ rideable_type     : chr  \"classic_bike\" \"electric_bike\" \"electric_bike\" \"electric_bike\" ...\n",
      " $ started_at        : chr  \"2020-12-27 12:44:29\" \"2020-12-18 17:37:15\" \"2020-12-15 15:04:33\" \"2020-12-15 15:54:18\" ...\n",
      " $ ended_at          : chr  \"2020-12-27 12:55:06\" \"2020-12-18 17:44:19\" \"2020-12-15 15:11:28\" \"2020-12-15 16:00:11\" ...\n",
      " $ start_station_name: chr  \"Aberdeen St & Jackson Blvd\" \"\" \"\" \"\" ...\n",
      " $ start_station_id  : chr  \"13157\" \"\" \"\" \"\" ...\n",
      " $ end_station_name  : chr  \"Desplaines St & Kinzie St\" \"\" \"\" \"\" ...\n",
      " $ end_station_id    : chr  \"TA1306000003\" \"\" \"\" \"\" ...\n",
      " $ start_lat         : num  41.9 41.9 41.9 41.9 41.8 ...\n",
      " $ start_lng         : num  -87.7 -87.7 -87.7 -87.7 -87.6 ...\n",
      " $ end_lat           : num  41.9 41.9 41.9 41.9 41.8 ...\n",
      " $ end_lng           : num  -87.6 -87.7 -87.7 -87.7 -87.6 ...\n",
      " $ member_casual     : chr  \"member\" \"member\" \"member\" \"member\" ...\n",
      "'data.frame':\t96834 obs. of  13 variables:\n",
      " $ ride_id           : chr  \"E19E6F1B8D4C42ED\" \"DC88F20C2C55F27F\" \"EC45C94683FE3F27\" \"4FA453A75AE377DB\" ...\n",
      " $ rideable_type     : chr  \"electric_bike\" \"electric_bike\" \"electric_bike\" \"electric_bike\" ...\n",
      " $ started_at        : chr  \"2021-01-23 16:14:19\" \"2021-01-27 18:43:08\" \"2021-01-21 22:35:54\" \"2021-01-07 13:31:13\" ...\n",
      " $ ended_at          : chr  \"2021-01-23 16:24:44\" \"2021-01-27 18:47:12\" \"2021-01-21 22:37:14\" \"2021-01-07 13:42:55\" ...\n",
      " $ start_station_name: chr  \"California Ave & Cortez St\" \"California Ave & Cortez St\" \"California Ave & Cortez St\" \"California Ave & Cortez St\" ...\n",
      " $ start_station_id  : chr  \"17660\" \"17660\" \"17660\" \"17660\" ...\n",
      " $ end_station_name  : chr  \"\" \"\" \"\" \"\" ...\n",
      " $ end_station_id    : chr  \"\" \"\" \"\" \"\" ...\n",
      " $ start_lat         : num  41.9 41.9 41.9 41.9 41.9 ...\n",
      " $ start_lng         : num  -87.7 -87.7 -87.7 -87.7 -87.7 ...\n",
      " $ end_lat           : num  41.9 41.9 41.9 41.9 41.9 ...\n",
      " $ end_lng           : num  -87.7 -87.7 -87.7 -87.7 -87.7 ...\n",
      " $ member_casual     : chr  \"member\" \"member\" \"member\" \"member\" ...\n",
      "'data.frame':\t49622 obs. of  13 variables:\n",
      " $ ride_id           : chr  \"89E7AA6C29227EFF\" \"0FEFDE2603568365\" \"E6159D746B2DBB91\" \"B32D3199F1C2E75B\" ...\n",
      " $ rideable_type     : chr  \"classic_bike\" \"classic_bike\" \"electric_bike\" \"classic_bike\" ...\n",
      " $ started_at        : chr  \"2021-02-12 16:14:56\" \"2021-02-14 17:52:38\" \"2021-02-09 19:10:18\" \"2021-02-02 17:49:41\" ...\n",
      " $ ended_at          : chr  \"2021-02-12 16:21:43\" \"2021-02-14 18:12:09\" \"2021-02-09 19:19:10\" \"2021-02-02 17:54:06\" ...\n",
      " $ start_station_name: chr  \"Glenwood Ave & Touhy Ave\" \"Glenwood Ave & Touhy Ave\" \"Clark St & Lake St\" \"Wood St & Chicago Ave\" ...\n",
      " $ start_station_id  : chr  \"525\" \"525\" \"KA1503000012\" \"637\" ...\n",
      " $ end_station_name  : chr  \"Sheridan Rd & Columbia Ave\" \"Bosworth Ave & Howard St\" \"State St & Randolph St\" \"Honore St & Division St\" ...\n",
      " $ end_station_id    : chr  \"660\" \"16806\" \"TA1305000029\" \"TA1305000034\" ...\n",
      " $ start_lat         : num  42 42 41.9 41.9 41.8 ...\n",
      " $ start_lng         : num  -87.7 -87.7 -87.6 -87.7 -87.6 ...\n",
      " $ end_lat           : num  42 42 41.9 41.9 41.8 ...\n",
      " $ end_lng           : num  -87.7 -87.7 -87.6 -87.7 -87.6 ...\n",
      " $ member_casual     : chr  \"member\" \"casual\" \"member\" \"member\" ...\n",
      "'data.frame':\t228496 obs. of  13 variables:\n",
      " $ ride_id           : chr  \"CFA86D4455AA1030\" \"30D9DC61227D1AF3\" \"846D87A15682A284\" \"994D05AA75A168F2\" ...\n",
      " $ rideable_type     : chr  \"classic_bike\" \"classic_bike\" \"classic_bike\" \"classic_bike\" ...\n",
      " $ started_at        : chr  \"2021-03-16 08:32:30\" \"2021-03-28 01:26:28\" \"2021-03-11 21:17:29\" \"2021-03-11 13:26:42\" ...\n",
      " $ ended_at          : chr  \"2021-03-16 08:36:34\" \"2021-03-28 01:36:55\" \"2021-03-11 21:33:53\" \"2021-03-11 13:55:41\" ...\n",
      " $ start_station_name: chr  \"Humboldt Blvd & Armitage Ave\" \"Humboldt Blvd & Armitage Ave\" \"Shields Ave & 28th Pl\" \"Winthrop Ave & Lawrence Ave\" ...\n",
      " $ start_station_id  : chr  \"15651\" \"15651\" \"15443\" \"TA1308000021\" ...\n",
      " $ end_station_name  : chr  \"Stave St & Armitage Ave\" \"Central Park Ave & Bloomingdale Ave\" \"Halsted St & 35th St\" \"Broadway & Sheridan Rd\" ...\n",
      " $ end_station_id    : chr  \"13266\" \"18017\" \"TA1308000043\" \"13323\" ...\n",
      " $ start_lat         : num  41.9 41.9 41.8 42 42 ...\n",
      " $ start_lng         : num  -87.7 -87.7 -87.6 -87.7 -87.7 ...\n",
      " $ end_lat           : num  41.9 41.9 41.8 42 42.1 ...\n",
      " $ end_lng           : num  -87.7 -87.7 -87.6 -87.6 -87.7 ...\n",
      " $ member_casual     : chr  \"casual\" \"casual\" \"casual\" \"casual\" ...\n"
     ]
    }
   ],
   "source": [
    "str(df_202004)\n",
    "str(df_202005)\n",
    "str(df_202006)\n",
    "str(df_202007)\n",
    "str(df_202008)\n",
    "str(df_202009)\n",
    "str(df_202010)\n",
    "str(df_202011)\n",
    "str(df_202012)\n",
    "str(df_202101)\n",
    "str(df_202102)\n",
    "str(df_202103)"
   ]
  },
  {
   "cell_type": "markdown",
   "id": "4367b97f",
   "metadata": {
    "papermill": {
     "duration": 0.148909,
     "end_time": "2022-03-08T13:14:22.538707",
     "exception": false,
     "start_time": "2022-03-08T13:14:22.389798",
     "status": "completed"
    },
    "tags": []
   },
   "source": [
    "**We can also use the glimpse() function to have a look at the data.**"
   ]
  },
  {
   "cell_type": "code",
   "execution_count": 5,
   "id": "5795b8c7",
   "metadata": {
    "execution": {
     "iopub.execute_input": "2022-03-08T13:14:22.840173Z",
     "iopub.status.busy": "2022-03-08T13:14:22.838259Z",
     "iopub.status.idle": "2022-03-08T13:14:22.986942Z",
     "shell.execute_reply": "2022-03-08T13:14:22.985576Z"
    },
    "papermill": {
     "duration": 0.299271,
     "end_time": "2022-03-08T13:14:22.987095",
     "exception": false,
     "start_time": "2022-03-08T13:14:22.687824",
     "status": "completed"
    },
    "tags": []
   },
   "outputs": [
    {
     "name": "stdout",
     "output_type": "stream",
     "text": [
      "Rows: 84,776\n",
      "Columns: 13\n",
      "$ ride_id            \u001b[3m\u001b[90m<chr>\u001b[39m\u001b[23m \"A847FADBBC638E45\", \"5405B80E996FF60D\", \"5DD24A79A4…\n",
      "$ rideable_type      \u001b[3m\u001b[90m<chr>\u001b[39m\u001b[23m \"docked_bike\", \"docked_bike\", \"docked_bike\", \"docke…\n",
      "$ started_at         \u001b[3m\u001b[90m<chr>\u001b[39m\u001b[23m \"2020-04-26 17:45:14\", \"2020-04-17 17:08:54\", \"2020…\n",
      "$ ended_at           \u001b[3m\u001b[90m<chr>\u001b[39m\u001b[23m \"2020-04-26 18:12:03\", \"2020-04-17 17:17:03\", \"2020…\n",
      "$ start_station_name \u001b[3m\u001b[90m<chr>\u001b[39m\u001b[23m \"Eckhart Park\", \"Drake Ave & Fullerton Ave\", \"McClu…\n",
      "$ start_station_id   \u001b[3m\u001b[90m<int>\u001b[39m\u001b[23m 86, 503, 142, 216, 125, 173, 35, 434, 627, 377, 508…\n",
      "$ end_station_name   \u001b[3m\u001b[90m<chr>\u001b[39m\u001b[23m \"Lincoln Ave & Diversey Pkwy\", \"Kosciuszko Park\", \"…\n",
      "$ end_station_id     \u001b[3m\u001b[90m<int>\u001b[39m\u001b[23m 152, 499, 255, 657, 323, 35, 635, 382, 359, 508, 37…\n",
      "$ start_lat          \u001b[3m\u001b[90m<dbl>\u001b[39m\u001b[23m 41.8964, 41.9244, 41.8945, 41.9030, 41.8902, 41.896…\n",
      "$ start_lng          \u001b[3m\u001b[90m<dbl>\u001b[39m\u001b[23m -87.6610, -87.7154, -87.6179, -87.6975, -87.6262, -…\n",
      "$ end_lat            \u001b[3m\u001b[90m<dbl>\u001b[39m\u001b[23m 41.9322, 41.9306, 41.8679, 41.8992, 41.9695, 41.892…\n",
      "$ end_lng            \u001b[3m\u001b[90m<dbl>\u001b[39m\u001b[23m -87.6586, -87.7238, -87.6230, -87.6722, -87.6547, -…\n",
      "$ member_casual      \u001b[3m\u001b[90m<chr>\u001b[39m\u001b[23m \"member\", \"member\", \"member\", \"member\", \"casual\", \"…\n",
      "Rows: 200,274\n",
      "Columns: 13\n",
      "$ ride_id            \u001b[3m\u001b[90m<chr>\u001b[39m\u001b[23m \"02668AD35674B983\", \"7A50CCAF1EDDB28F\", \"2FFCDFDB91…\n",
      "$ rideable_type      \u001b[3m\u001b[90m<chr>\u001b[39m\u001b[23m \"docked_bike\", \"docked_bike\", \"docked_bike\", \"docke…\n",
      "$ started_at         \u001b[3m\u001b[90m<chr>\u001b[39m\u001b[23m \"2020-05-27 10:03:52\", \"2020-05-25 10:47:11\", \"2020…\n",
      "$ ended_at           \u001b[3m\u001b[90m<chr>\u001b[39m\u001b[23m \"2020-05-27 10:16:49\", \"2020-05-25 11:05:40\", \"2020…\n",
      "$ start_station_name \u001b[3m\u001b[90m<chr>\u001b[39m\u001b[23m \"Franklin St & Jackson Blvd\", \"Clark St & Wrightwoo…\n",
      "$ start_station_id   \u001b[3m\u001b[90m<int>\u001b[39m\u001b[23m 36, 340, 260, 251, 261, 206, 261, 180, 331, 219, 24…\n",
      "$ end_station_name   \u001b[3m\u001b[90m<chr>\u001b[39m\u001b[23m \"Wabash Ave & Grand Ave\", \"Clark St & Leland Ave\", …\n",
      "$ end_station_id     \u001b[3m\u001b[90m<int>\u001b[39m\u001b[23m 199, 326, 260, 157, 206, 22, 261, 180, 300, 305, 14…\n",
      "$ start_lat          \u001b[3m\u001b[90m<dbl>\u001b[39m\u001b[23m 41.8777, 41.9295, 41.9296, 41.9680, 41.8715, 41.847…\n",
      "$ start_lng          \u001b[3m\u001b[90m<dbl>\u001b[39m\u001b[23m -87.6353, -87.6431, -87.7079, -87.6500, -87.6699, -…\n",
      "$ end_lat            \u001b[3m\u001b[90m<dbl>\u001b[39m\u001b[23m 41.8915, 41.9671, 41.9296, 41.9367, 41.8472, 41.869…\n",
      "$ end_lng            \u001b[3m\u001b[90m<dbl>\u001b[39m\u001b[23m -87.6268, -87.6674, -87.7079, -87.6368, -87.6468, -…\n",
      "$ member_casual      \u001b[3m\u001b[90m<chr>\u001b[39m\u001b[23m \"member\", \"casual\", \"casual\", \"casual\", \"member\", \"…\n",
      "Rows: 343,005\n",
      "Columns: 13\n",
      "$ ride_id            \u001b[3m\u001b[90m<chr>\u001b[39m\u001b[23m \"8CD5DE2C2B6C4CFC\", \"9A191EB2C751D85D\", \"F37D14B0B5…\n",
      "$ rideable_type      \u001b[3m\u001b[90m<chr>\u001b[39m\u001b[23m \"docked_bike\", \"docked_bike\", \"docked_bike\", \"docke…\n",
      "$ started_at         \u001b[3m\u001b[90m<chr>\u001b[39m\u001b[23m \"2020-06-13 23:24:48\", \"2020-06-26 07:26:10\", \"2020…\n",
      "$ ended_at           \u001b[3m\u001b[90m<chr>\u001b[39m\u001b[23m \"2020-06-13 23:36:55\", \"2020-06-26 07:31:58\", \"2020…\n",
      "$ start_station_name \u001b[3m\u001b[90m<chr>\u001b[39m\u001b[23m \"Wilton Ave & Belmont Ave\", \"Federal St & Polk St\",…\n",
      "$ start_station_id   \u001b[3m\u001b[90m<int>\u001b[39m\u001b[23m 117, 41, 81, 303, 327, 327, 41, 115, 338, 84, 317, …\n",
      "$ end_station_name   \u001b[3m\u001b[90m<chr>\u001b[39m\u001b[23m \"Damen Ave & Clybourn Ave\", \"Daley Center Plaza\", \"…\n",
      "$ end_station_id     \u001b[3m\u001b[90m<int>\u001b[39m\u001b[23m 163, 81, 5, 294, 117, 117, 81, 303, 164, 53, 168, 1…\n",
      "$ start_lat          \u001b[3m\u001b[90m<dbl>\u001b[39m\u001b[23m 41.94018, 41.87208, 41.88424, 41.94553, 41.92154, 4…\n",
      "$ start_lng          \u001b[3m\u001b[90m<dbl>\u001b[39m\u001b[23m -87.65304, -87.62954, -87.62963, -87.64644, -87.653…\n",
      "$ end_lat            \u001b[3m\u001b[90m<dbl>\u001b[39m\u001b[23m 41.93193, 41.88424, 41.87405, 41.97835, 41.94018, 4…\n",
      "$ end_lng            \u001b[3m\u001b[90m<dbl>\u001b[39m\u001b[23m -87.67786, -87.62963, -87.62772, -87.65975, -87.653…\n",
      "$ member_casual      \u001b[3m\u001b[90m<chr>\u001b[39m\u001b[23m \"casual\", \"member\", \"member\", \"casual\", \"casual\", \"…\n",
      "Rows: 551,480\n",
      "Columns: 13\n",
      "$ ride_id            \u001b[3m\u001b[90m<chr>\u001b[39m\u001b[23m \"762198876D69004D\", \"BEC9C9FBA0D4CF1B\", \"D2FD8EA432…\n",
      "$ rideable_type      \u001b[3m\u001b[90m<chr>\u001b[39m\u001b[23m \"docked_bike\", \"docked_bike\", \"docked_bike\", \"docke…\n",
      "$ started_at         \u001b[3m\u001b[90m<chr>\u001b[39m\u001b[23m \"2020-07-09 15:22:02\", \"2020-07-24 23:56:30\", \"2020…\n",
      "$ ended_at           \u001b[3m\u001b[90m<chr>\u001b[39m\u001b[23m \"2020-07-09 15:25:52\", \"2020-07-25 00:20:17\", \"2020…\n",
      "$ start_station_name \u001b[3m\u001b[90m<chr>\u001b[39m\u001b[23m \"Ritchie Ct & Banks St\", \"Halsted St & Roscoe St\", …\n",
      "$ start_station_id   \u001b[3m\u001b[90m<int>\u001b[39m\u001b[23m 180, 299, 329, 181, 268, 635, 113, 211, 176, 31, 14…\n",
      "$ end_station_name   \u001b[3m\u001b[90m<chr>\u001b[39m\u001b[23m \"Wells St & Evergreen Ave\", \"Broadway & Ridge Ave\",…\n",
      "$ end_station_id     \u001b[3m\u001b[90m<int>\u001b[39m\u001b[23m 291, 461, 156, 94, 301, 289, 140, 31, 191, 142, 31,…\n",
      "$ start_lat          \u001b[3m\u001b[90m<dbl>\u001b[39m\u001b[23m 41.90687, 41.94367, 41.93259, 41.89076, 41.91172, 4…\n",
      "$ start_lng          \u001b[3m\u001b[90m<dbl>\u001b[39m\u001b[23m -87.62622, -87.64895, -87.63643, -87.63170, -87.626…\n",
      "$ end_lat            \u001b[3m\u001b[90m<dbl>\u001b[39m\u001b[23m 41.90672, 41.98404, 41.93650, 41.91831, 41.90799, 4…\n",
      "$ end_lng            \u001b[3m\u001b[90m<dbl>\u001b[39m\u001b[23m -87.63483, -87.66027, -87.64754, -87.63628, -87.631…\n",
      "$ member_casual      \u001b[3m\u001b[90m<chr>\u001b[39m\u001b[23m \"member\", \"member\", \"casual\", \"casual\", \"member\", \"…\n",
      "Rows: 622,361\n",
      "Columns: 13\n",
      "$ ride_id            \u001b[3m\u001b[90m<chr>\u001b[39m\u001b[23m \"322BD23D287743ED\", \"2A3AEF1AB9054D8B\", \"67DC1D133E…\n",
      "$ rideable_type      \u001b[3m\u001b[90m<chr>\u001b[39m\u001b[23m \"docked_bike\", \"electric_bike\", \"electric_bike\", \"e…\n",
      "$ started_at         \u001b[3m\u001b[90m<chr>\u001b[39m\u001b[23m \"2020-08-20 18:08:14\", \"2020-08-27 18:46:04\", \"2020…\n",
      "$ ended_at           \u001b[3m\u001b[90m<chr>\u001b[39m\u001b[23m \"2020-08-20 18:17:51\", \"2020-08-27 19:54:51\", \"2020…\n",
      "$ start_station_name \u001b[3m\u001b[90m<chr>\u001b[39m\u001b[23m \"Lake Shore Dr & Diversey Pkwy\", \"Michigan Ave & 14…\n",
      "$ start_station_id   \u001b[3m\u001b[90m<int>\u001b[39m\u001b[23m 329, 168, 195, 81, 658, 658, 196, 67, 153, 177, 313…\n",
      "$ end_station_name   \u001b[3m\u001b[90m<chr>\u001b[39m\u001b[23m \"Clark St & Lincoln Ave\", \"Michigan Ave & 14th St\",…\n",
      "$ end_station_id     \u001b[3m\u001b[90m<int>\u001b[39m\u001b[23m 141, 168, 44, 47, 658, 658, 49, 229, 225, 305, 296,…\n",
      "$ start_lat          \u001b[3m\u001b[90m<dbl>\u001b[39m\u001b[23m 41.93259, 41.86438, 41.88464, 41.88409, 41.90299, 4…\n",
      "$ start_lng          \u001b[3m\u001b[90m<dbl>\u001b[39m\u001b[23m -87.63643, -87.62368, -87.61955, -87.62964, -87.683…\n",
      "$ end_lat            \u001b[3m\u001b[90m<dbl>\u001b[39m\u001b[23m 41.91569, 41.86422, 41.88497, 41.88958, 41.90300, 4…\n",
      "$ end_lng            \u001b[3m\u001b[90m<dbl>\u001b[39m\u001b[23m -87.63460, -87.62344, -87.62757, -87.62754, -87.683…\n",
      "$ member_casual      \u001b[3m\u001b[90m<chr>\u001b[39m\u001b[23m \"member\", \"casual\", \"casual\", \"casual\", \"casual\", \"…\n",
      "Rows: 532,958\n",
      "Columns: 13\n",
      "$ ride_id            \u001b[3m\u001b[90m<chr>\u001b[39m\u001b[23m \"2B22BD5F95FB2629\", \"A7FB70B4AFC6CAF2\", \"86057FA01B…\n",
      "$ rideable_type      \u001b[3m\u001b[90m<chr>\u001b[39m\u001b[23m \"electric_bike\", \"electric_bike\", \"electric_bike\", …\n",
      "$ started_at         \u001b[3m\u001b[90m<chr>\u001b[39m\u001b[23m \"2020-09-17 14:27:11\", \"2020-09-17 15:07:31\", \"2020…\n",
      "$ ended_at           \u001b[3m\u001b[90m<chr>\u001b[39m\u001b[23m \"2020-09-17 14:44:24\", \"2020-09-17 15:07:45\", \"2020…\n",
      "$ start_station_name \u001b[3m\u001b[90m<chr>\u001b[39m\u001b[23m \"Michigan Ave & Lake St\", \"W Oakdale Ave & N Broadw…\n",
      "$ start_station_id   \u001b[3m\u001b[90m<int>\u001b[39m\u001b[23m 52, NA, NA, 246, 24, 94, 291, NA, NA, NA, 273, 145,…\n",
      "$ end_station_name   \u001b[3m\u001b[90m<chr>\u001b[39m\u001b[23m \"Green St & Randolph St\", \"W Oakdale Ave & N Broadw…\n",
      "$ end_station_id     \u001b[3m\u001b[90m<int>\u001b[39m\u001b[23m 112, NA, NA, 249, 24, NA, 256, NA, NA, NA, 273, NA,…\n",
      "$ start_lat          \u001b[3m\u001b[90m<dbl>\u001b[39m\u001b[23m 41.88669, 41.94000, 41.94000, 41.95606, 41.89186, 4…\n",
      "$ start_lng          \u001b[3m\u001b[90m<dbl>\u001b[39m\u001b[23m -87.62356, -87.64000, -87.64000, -87.66892, -87.621…\n",
      "$ end_lat            \u001b[3m\u001b[90m<dbl>\u001b[39m\u001b[23m 41.88357, 41.94000, 41.94000, 41.96398, 41.89135, 4…\n",
      "$ end_lng            \u001b[3m\u001b[90m<dbl>\u001b[39m\u001b[23m -87.64873, -87.64000, -87.64000, -87.63822, -87.620…\n",
      "$ member_casual      \u001b[3m\u001b[90m<chr>\u001b[39m\u001b[23m \"casual\", \"casual\", \"casual\", \"casual\", \"casual\", \"…\n",
      "Rows: 388,653\n",
      "Columns: 13\n",
      "$ ride_id            \u001b[3m\u001b[90m<chr>\u001b[39m\u001b[23m \"ACB6B40CF5B9044C\", \"DF450C72FD109C01\", \"B6396B54A1…\n",
      "$ rideable_type      \u001b[3m\u001b[90m<chr>\u001b[39m\u001b[23m \"electric_bike\", \"electric_bike\", \"electric_bike\", …\n",
      "$ started_at         \u001b[3m\u001b[90m<chr>\u001b[39m\u001b[23m \"2020-10-31 19:39:43\", \"2020-10-31 23:50:08\", \"2020…\n",
      "$ ended_at           \u001b[3m\u001b[90m<chr>\u001b[39m\u001b[23m \"2020-10-31 19:57:12\", \"2020-11-01 00:04:16\", \"2020…\n",
      "$ start_station_name \u001b[3m\u001b[90m<chr>\u001b[39m\u001b[23m \"Lakeview Ave & Fullerton Pkwy\", \"Southport Ave & W…\n",
      "$ start_station_id   \u001b[3m\u001b[90m<int>\u001b[39m\u001b[23m 313, 227, 102, 165, 190, 359, 313, 125, NA, 174, 11…\n",
      "$ end_station_name   \u001b[3m\u001b[90m<chr>\u001b[39m\u001b[23m \"Rush St & Hubbard St\", \"Kedzie Ave & Milwaukee Ave…\n",
      "$ end_station_id     \u001b[3m\u001b[90m<int>\u001b[39m\u001b[23m 125, 260, 423, 256, 185, 53, 125, 313, 199, 635, 30…\n",
      "$ start_lat          \u001b[3m\u001b[90m<dbl>\u001b[39m\u001b[23m 41.92610, 41.94817, 41.77346, 41.95085, 41.92886, 4…\n",
      "$ start_lng          \u001b[3m\u001b[90m<dbl>\u001b[39m\u001b[23m -87.63898, -87.66391, -87.58537, -87.65924, -87.663…\n",
      "$ end_lat            \u001b[3m\u001b[90m<dbl>\u001b[39m\u001b[23m 41.89035, 41.92953, 41.79145, 41.95281, 41.91778, 4…\n",
      "$ end_lng            \u001b[3m\u001b[90m<dbl>\u001b[39m\u001b[23m -87.62607, -87.70782, -87.60005, -87.65010, -87.691…\n",
      "$ member_casual      \u001b[3m\u001b[90m<chr>\u001b[39m\u001b[23m \"casual\", \"casual\", \"casual\", \"casual\", \"casual\", \"…\n",
      "Rows: 259,716\n",
      "Columns: 13\n",
      "$ ride_id            \u001b[3m\u001b[90m<chr>\u001b[39m\u001b[23m \"BD0A6FF6FFF9B921\", \"96A7A7A4BDE4F82D\", \"C61526D065…\n",
      "$ rideable_type      \u001b[3m\u001b[90m<chr>\u001b[39m\u001b[23m \"electric_bike\", \"electric_bike\", \"electric_bike\", …\n",
      "$ started_at         \u001b[3m\u001b[90m<chr>\u001b[39m\u001b[23m \"2020-11-01 13:36:00\", \"2020-11-01 10:03:26\", \"2020…\n",
      "$ ended_at           \u001b[3m\u001b[90m<chr>\u001b[39m\u001b[23m \"2020-11-01 13:45:40\", \"2020-11-01 10:14:45\", \"2020…\n",
      "$ start_station_name \u001b[3m\u001b[90m<chr>\u001b[39m\u001b[23m \"Dearborn St & Erie St\", \"Franklin St & Illinois St…\n",
      "$ start_station_id   \u001b[3m\u001b[90m<int>\u001b[39m\u001b[23m 110, 672, 76, 659, 2, 72, 76, NA, 58, 394, 623, NA,…\n",
      "$ end_station_name   \u001b[3m\u001b[90m<chr>\u001b[39m\u001b[23m \"St. Clair St & Erie St\", \"Noble St & Milwaukee Ave…\n",
      "$ end_station_id     \u001b[3m\u001b[90m<int>\u001b[39m\u001b[23m 211, 29, 41, 185, 2, 76, 72, NA, 288, 273, 2, 506, …\n",
      "$ start_lat          \u001b[3m\u001b[90m<dbl>\u001b[39m\u001b[23m 41.89418, 41.89096, 41.88098, 41.89550, 41.87650, 4…\n",
      "$ start_lng          \u001b[3m\u001b[90m<dbl>\u001b[39m\u001b[23m -87.62913, -87.63534, -87.61675, -87.68201, -87.620…\n",
      "$ end_lat            \u001b[3m\u001b[90m<dbl>\u001b[39m\u001b[23m 41.89443, 41.90067, 41.87205, 41.91774, 41.87645, 4…\n",
      "$ end_lng            \u001b[3m\u001b[90m<dbl>\u001b[39m\u001b[23m -87.62338, -87.66248, -87.62955, -87.69139, -87.620…\n",
      "$ member_casual      \u001b[3m\u001b[90m<chr>\u001b[39m\u001b[23m \"casual\", \"casual\", \"casual\", \"casual\", \"casual\", \"…\n",
      "Rows: 131,573\n",
      "Columns: 13\n",
      "$ ride_id            \u001b[3m\u001b[90m<chr>\u001b[39m\u001b[23m \"70B6A9A437D4C30D\", \"158A465D4E74C54A\", \"5262016E0F…\n",
      "$ rideable_type      \u001b[3m\u001b[90m<chr>\u001b[39m\u001b[23m \"classic_bike\", \"electric_bike\", \"electric_bike\", \"…\n",
      "$ started_at         \u001b[3m\u001b[90m<chr>\u001b[39m\u001b[23m \"2020-12-27 12:44:29\", \"2020-12-18 17:37:15\", \"2020…\n",
      "$ ended_at           \u001b[3m\u001b[90m<chr>\u001b[39m\u001b[23m \"2020-12-27 12:55:06\", \"2020-12-18 17:44:19\", \"2020…\n",
      "$ start_station_name \u001b[3m\u001b[90m<chr>\u001b[39m\u001b[23m \"Aberdeen St & Jackson Blvd\", \"\", \"\", \"\", \"\", \"\", \"…\n",
      "$ start_station_id   \u001b[3m\u001b[90m<chr>\u001b[39m\u001b[23m \"13157\", \"\", \"\", \"\", \"\", \"\", \"\", \"\", \"\", \"\", \"\", \"\"…\n",
      "$ end_station_name   \u001b[3m\u001b[90m<chr>\u001b[39m\u001b[23m \"Desplaines St & Kinzie St\", \"\", \"\", \"\", \"\", \"\", \"\"…\n",
      "$ end_station_id     \u001b[3m\u001b[90m<chr>\u001b[39m\u001b[23m \"TA1306000003\", \"\", \"\", \"\", \"\", \"\", \"\", \"\", \"\", \"\",…\n",
      "$ start_lat          \u001b[3m\u001b[90m<dbl>\u001b[39m\u001b[23m 41.87773, 41.93000, 41.91000, 41.92000, 41.80000, 4…\n",
      "$ start_lng          \u001b[3m\u001b[90m<dbl>\u001b[39m\u001b[23m -87.65479, -87.70000, -87.69000, -87.70000, -87.590…\n",
      "$ end_lat            \u001b[3m\u001b[90m<dbl>\u001b[39m\u001b[23m 41.88872, 41.91000, 41.93000, 41.91000, 41.80000, 4…\n",
      "$ end_lng            \u001b[3m\u001b[90m<dbl>\u001b[39m\u001b[23m -87.64445, -87.70000, -87.70000, -87.70000, -87.590…\n",
      "$ member_casual      \u001b[3m\u001b[90m<chr>\u001b[39m\u001b[23m \"member\", \"member\", \"member\", \"member\", \"member\", \"…\n",
      "Rows: 96,834\n",
      "Columns: 13\n",
      "$ ride_id            \u001b[3m\u001b[90m<chr>\u001b[39m\u001b[23m \"E19E6F1B8D4C42ED\", \"DC88F20C2C55F27F\", \"EC45C94683…\n",
      "$ rideable_type      \u001b[3m\u001b[90m<chr>\u001b[39m\u001b[23m \"electric_bike\", \"electric_bike\", \"electric_bike\", …\n",
      "$ started_at         \u001b[3m\u001b[90m<chr>\u001b[39m\u001b[23m \"2021-01-23 16:14:19\", \"2021-01-27 18:43:08\", \"2021…\n",
      "$ ended_at           \u001b[3m\u001b[90m<chr>\u001b[39m\u001b[23m \"2021-01-23 16:24:44\", \"2021-01-27 18:47:12\", \"2021…\n",
      "$ start_station_name \u001b[3m\u001b[90m<chr>\u001b[39m\u001b[23m \"California Ave & Cortez St\", \"California Ave & Cor…\n",
      "$ start_station_id   \u001b[3m\u001b[90m<chr>\u001b[39m\u001b[23m \"17660\", \"17660\", \"17660\", \"17660\", \"17660\", \"17660…\n",
      "$ end_station_name   \u001b[3m\u001b[90m<chr>\u001b[39m\u001b[23m \"\", \"\", \"\", \"\", \"\", \"\", \"\", \"\", \"\", \"Wood St & Augu…\n",
      "$ end_station_id     \u001b[3m\u001b[90m<chr>\u001b[39m\u001b[23m \"\", \"\", \"\", \"\", \"\", \"\", \"\", \"\", \"\", \"657\", \"13258\",…\n",
      "$ start_lat          \u001b[3m\u001b[90m<dbl>\u001b[39m\u001b[23m 41.90034, 41.90033, 41.90031, 41.90040, 41.90033, 4…\n",
      "$ start_lng          \u001b[3m\u001b[90m<dbl>\u001b[39m\u001b[23m -87.69674, -87.69671, -87.69664, -87.69666, -87.696…\n",
      "$ end_lat            \u001b[3m\u001b[90m<dbl>\u001b[39m\u001b[23m 41.89000, 41.90000, 41.90000, 41.92000, 41.90000, 4…\n",
      "$ end_lng            \u001b[3m\u001b[90m<dbl>\u001b[39m\u001b[23m -87.72000, -87.69000, -87.70000, -87.69000, -87.700…\n",
      "$ member_casual      \u001b[3m\u001b[90m<chr>\u001b[39m\u001b[23m \"member\", \"member\", \"member\", \"member\", \"casual\", \"…\n",
      "Rows: 49,622\n",
      "Columns: 13\n",
      "$ ride_id            \u001b[3m\u001b[90m<chr>\u001b[39m\u001b[23m \"89E7AA6C29227EFF\", \"0FEFDE2603568365\", \"E6159D746B…\n",
      "$ rideable_type      \u001b[3m\u001b[90m<chr>\u001b[39m\u001b[23m \"classic_bike\", \"classic_bike\", \"electric_bike\", \"c…\n",
      "$ started_at         \u001b[3m\u001b[90m<chr>\u001b[39m\u001b[23m \"2021-02-12 16:14:56\", \"2021-02-14 17:52:38\", \"2021…\n",
      "$ ended_at           \u001b[3m\u001b[90m<chr>\u001b[39m\u001b[23m \"2021-02-12 16:21:43\", \"2021-02-14 18:12:09\", \"2021…\n",
      "$ start_station_name \u001b[3m\u001b[90m<chr>\u001b[39m\u001b[23m \"Glenwood Ave & Touhy Ave\", \"Glenwood Ave & Touhy A…\n",
      "$ start_station_id   \u001b[3m\u001b[90m<chr>\u001b[39m\u001b[23m \"525\", \"525\", \"KA1503000012\", \"637\", \"13216\", \"1800…\n",
      "$ end_station_name   \u001b[3m\u001b[90m<chr>\u001b[39m\u001b[23m \"Sheridan Rd & Columbia Ave\", \"Bosworth Ave & Howar…\n",
      "$ end_station_id     \u001b[3m\u001b[90m<chr>\u001b[39m\u001b[23m \"660\", \"16806\", \"TA1305000029\", \"TA1305000034\", \"TA…\n",
      "$ start_lat          \u001b[3m\u001b[90m<dbl>\u001b[39m\u001b[23m 42.01270, 42.01270, 41.88579, 41.89563, 41.83473, 4…\n",
      "$ start_lng          \u001b[3m\u001b[90m<dbl>\u001b[39m\u001b[23m -87.66606, -87.66606, -87.63110, -87.67207, -87.625…\n",
      "$ end_lat            \u001b[3m\u001b[90m<dbl>\u001b[39m\u001b[23m 42.00458, 42.01954, 41.88487, 41.90312, 41.83816, 4…\n",
      "$ end_lng            \u001b[3m\u001b[90m<dbl>\u001b[39m\u001b[23m -87.66141, -87.66956, -87.62750, -87.67394, -87.645…\n",
      "$ member_casual      \u001b[3m\u001b[90m<chr>\u001b[39m\u001b[23m \"member\", \"casual\", \"member\", \"member\", \"member\", \"…\n",
      "Rows: 228,496\n",
      "Columns: 13\n",
      "$ ride_id            \u001b[3m\u001b[90m<chr>\u001b[39m\u001b[23m \"CFA86D4455AA1030\", \"30D9DC61227D1AF3\", \"846D87A156…\n",
      "$ rideable_type      \u001b[3m\u001b[90m<chr>\u001b[39m\u001b[23m \"classic_bike\", \"classic_bike\", \"classic_bike\", \"cl…\n",
      "$ started_at         \u001b[3m\u001b[90m<chr>\u001b[39m\u001b[23m \"2021-03-16 08:32:30\", \"2021-03-28 01:26:28\", \"2021…\n",
      "$ ended_at           \u001b[3m\u001b[90m<chr>\u001b[39m\u001b[23m \"2021-03-16 08:36:34\", \"2021-03-28 01:36:55\", \"2021…\n",
      "$ start_station_name \u001b[3m\u001b[90m<chr>\u001b[39m\u001b[23m \"Humboldt Blvd & Armitage Ave\", \"Humboldt Blvd & Ar…\n",
      "$ start_station_id   \u001b[3m\u001b[90m<chr>\u001b[39m\u001b[23m \"15651\", \"15651\", \"15443\", \"TA1308000021\", \"525\", \"…\n",
      "$ end_station_name   \u001b[3m\u001b[90m<chr>\u001b[39m\u001b[23m \"Stave St & Armitage Ave\", \"Central Park Ave & Bloo…\n",
      "$ end_station_id     \u001b[3m\u001b[90m<chr>\u001b[39m\u001b[23m \"13266\", \"18017\", \"TA1308000043\", \"13323\", \"E008\", …\n",
      "$ start_lat          \u001b[3m\u001b[90m<dbl>\u001b[39m\u001b[23m 41.91751, 41.91751, 41.84273, 41.96881, 42.01270, 4…\n",
      "$ start_lng          \u001b[3m\u001b[90m<dbl>\u001b[39m\u001b[23m -87.70181, -87.70181, -87.63549, -87.65766, -87.666…\n",
      "$ end_lat            \u001b[3m\u001b[90m<dbl>\u001b[39m\u001b[23m 41.91774, 41.91417, 41.83066, 41.95283, 42.05049, 4…\n",
      "$ end_lng            \u001b[3m\u001b[90m<dbl>\u001b[39m\u001b[23m -87.69139, -87.71676, -87.64717, -87.64999, -87.677…\n",
      "$ member_casual      \u001b[3m\u001b[90m<chr>\u001b[39m\u001b[23m \"casual\", \"casual\", \"casual\", \"casual\", \"casual\", \"…\n"
     ]
    }
   ],
   "source": [
    "glimpse(df_202004)\n",
    "glimpse(df_202005)\n",
    "glimpse(df_202006)\n",
    "glimpse(df_202007)\n",
    "glimpse(df_202008)\n",
    "glimpse(df_202009)\n",
    "glimpse(df_202010)\n",
    "glimpse(df_202011)\n",
    "glimpse(df_202012)\n",
    "glimpse(df_202101)\n",
    "glimpse(df_202102)\n",
    "glimpse(df_202103)\n"
   ]
  },
  {
   "cell_type": "markdown",
   "id": "adc0f930",
   "metadata": {
    "papermill": {
     "duration": 0.158329,
     "end_time": "2022-03-08T13:14:23.314071",
     "exception": false,
     "start_time": "2022-03-08T13:14:23.155742",
     "status": "completed"
    },
    "tags": []
   },
   "source": [
    "##### **Observation**\n",
    "We observed that in dataframes df_202012, df_202101, df_202102 and df__202103 the start_station_id and end_station_id columns are of char datatype and due to that we can't merge the datasets and work on it. So, We need to convert the start_station_id and end_station_id columns of other dataframes to char to maintain the consistency across all the dataframes.\n",
    "\n",
    "##### **Transformation of data**"
   ]
  },
  {
   "cell_type": "code",
   "execution_count": 6,
   "id": "0cd98561",
   "metadata": {
    "execution": {
     "iopub.execute_input": "2022-03-08T13:14:23.640439Z",
     "iopub.status.busy": "2022-03-08T13:14:23.638389Z",
     "iopub.status.idle": "2022-03-08T13:14:23.701576Z",
     "shell.execute_reply": "2022-03-08T13:14:23.700098Z"
    },
    "papermill": {
     "duration": 0.22777,
     "end_time": "2022-03-08T13:14:23.701739",
     "exception": false,
     "start_time": "2022-03-08T13:14:23.473969",
     "status": "completed"
    },
    "tags": []
   },
   "outputs": [],
   "source": [
    "df_202004 <- df_202004 %>% mutate(start_station_id = as.character(start_station_id), end_station_id = as.character(end_station_id))\n",
    "df_202005 <- df_202005 %>% mutate(start_station_id = as.character(start_station_id), end_station_id = as.character(end_station_id))\n",
    "df_202006 <- df_202006 %>% mutate(start_station_id = as.character(start_station_id), end_station_id = as.character(end_station_id))\n",
    "df_202007 <- df_202007 %>% mutate(start_station_id = as.character(start_station_id), end_station_id = as.character(end_station_id))\n",
    "df_202008 <- df_202008 %>% mutate(start_station_id = as.character(start_station_id), end_station_id = as.character(end_station_id))\n",
    "df_202009 <- df_202009 %>% mutate(start_station_id = as.character(start_station_id), end_station_id = as.character(end_station_id))\n",
    "df_202010 <- df_202010 %>% mutate(start_station_id = as.character(start_station_id), end_station_id = as.character(end_station_id))\n",
    "df_202011 <- df_202011 %>% mutate(start_station_id = as.character(start_station_id), end_station_id = as.character(end_station_id))"
   ]
  },
  {
   "cell_type": "markdown",
   "id": "2c809004",
   "metadata": {
    "papermill": {
     "duration": 0.158493,
     "end_time": "2022-03-08T13:14:24.016555",
     "exception": false,
     "start_time": "2022-03-08T13:14:23.858062",
     "status": "completed"
    },
    "tags": []
   },
   "source": [
    "### 3. Process\n",
    "\n",
    "Now we will combine all the data to a single data frame"
   ]
  },
  {
   "cell_type": "code",
   "execution_count": 7,
   "id": "81fd5207",
   "metadata": {
    "execution": {
     "iopub.execute_input": "2022-03-08T13:14:24.340518Z",
     "iopub.status.busy": "2022-03-08T13:14:24.337996Z",
     "iopub.status.idle": "2022-03-08T13:14:31.501652Z",
     "shell.execute_reply": "2022-03-08T13:14:31.500085Z"
    },
    "papermill": {
     "duration": 7.327267,
     "end_time": "2022-03-08T13:14:31.501823",
     "exception": false,
     "start_time": "2022-03-08T13:14:24.174556",
     "status": "completed"
    },
    "tags": []
   },
   "outputs": [],
   "source": [
    "bike_shares <- bind_rows(df_202004,df_202005,df_202006,df_202007,df_202008,df_202009,df_202010,df_202011,df_202012,df_202101,df_202102,df_202103)"
   ]
  },
  {
   "cell_type": "markdown",
   "id": "186afe04",
   "metadata": {
    "papermill": {
     "duration": 0.160182,
     "end_time": "2022-03-08T13:14:31.827775",
     "exception": false,
     "start_time": "2022-03-08T13:14:31.667593",
     "status": "completed"
    },
    "tags": []
   },
   "source": [
    "**Let's take a glimpse of the new data frame we created.**"
   ]
  },
  {
   "cell_type": "code",
   "execution_count": 8,
   "id": "c3bdb1ba",
   "metadata": {
    "execution": {
     "iopub.execute_input": "2022-03-08T13:14:32.160172Z",
     "iopub.status.busy": "2022-03-08T13:14:32.158310Z",
     "iopub.status.idle": "2022-03-08T13:14:32.180527Z",
     "shell.execute_reply": "2022-03-08T13:14:32.178589Z"
    },
    "papermill": {
     "duration": 0.192667,
     "end_time": "2022-03-08T13:14:32.180680",
     "exception": false,
     "start_time": "2022-03-08T13:14:31.988013",
     "status": "completed"
    },
    "tags": []
   },
   "outputs": [
    {
     "name": "stdout",
     "output_type": "stream",
     "text": [
      "Rows: 3,489,748\n",
      "Columns: 13\n",
      "$ ride_id            \u001b[3m\u001b[90m<chr>\u001b[39m\u001b[23m \"A847FADBBC638E45\", \"5405B80E996FF60D\", \"5DD24A79A4…\n",
      "$ rideable_type      \u001b[3m\u001b[90m<chr>\u001b[39m\u001b[23m \"docked_bike\", \"docked_bike\", \"docked_bike\", \"docke…\n",
      "$ started_at         \u001b[3m\u001b[90m<chr>\u001b[39m\u001b[23m \"2020-04-26 17:45:14\", \"2020-04-17 17:08:54\", \"2020…\n",
      "$ ended_at           \u001b[3m\u001b[90m<chr>\u001b[39m\u001b[23m \"2020-04-26 18:12:03\", \"2020-04-17 17:17:03\", \"2020…\n",
      "$ start_station_name \u001b[3m\u001b[90m<chr>\u001b[39m\u001b[23m \"Eckhart Park\", \"Drake Ave & Fullerton Ave\", \"McClu…\n",
      "$ start_station_id   \u001b[3m\u001b[90m<chr>\u001b[39m\u001b[23m \"86\", \"503\", \"142\", \"216\", \"125\", \"173\", \"35\", \"434…\n",
      "$ end_station_name   \u001b[3m\u001b[90m<chr>\u001b[39m\u001b[23m \"Lincoln Ave & Diversey Pkwy\", \"Kosciuszko Park\", \"…\n",
      "$ end_station_id     \u001b[3m\u001b[90m<chr>\u001b[39m\u001b[23m \"152\", \"499\", \"255\", \"657\", \"323\", \"35\", \"635\", \"38…\n",
      "$ start_lat          \u001b[3m\u001b[90m<dbl>\u001b[39m\u001b[23m 41.8964, 41.9244, 41.8945, 41.9030, 41.8902, 41.896…\n",
      "$ start_lng          \u001b[3m\u001b[90m<dbl>\u001b[39m\u001b[23m -87.6610, -87.7154, -87.6179, -87.6975, -87.6262, -…\n",
      "$ end_lat            \u001b[3m\u001b[90m<dbl>\u001b[39m\u001b[23m 41.9322, 41.9306, 41.8679, 41.8992, 41.9695, 41.892…\n",
      "$ end_lng            \u001b[3m\u001b[90m<dbl>\u001b[39m\u001b[23m -87.6586, -87.7238, -87.6230, -87.6722, -87.6547, -…\n",
      "$ member_casual      \u001b[3m\u001b[90m<chr>\u001b[39m\u001b[23m \"member\", \"member\", \"member\", \"member\", \"casual\", \"…\n"
     ]
    }
   ],
   "source": [
    "glimpse(bike_shares)"
   ]
  },
  {
   "cell_type": "markdown",
   "id": "19d76fd7",
   "metadata": {
    "papermill": {
     "duration": 0.160842,
     "end_time": "2022-03-08T13:14:32.501531",
     "exception": false,
     "start_time": "2022-03-08T13:14:32.340689",
     "status": "completed"
    },
    "tags": []
   },
   "source": [
    "##### **Observation**\n",
    "Here we observed that the 'started_at' and 'ended_at' column contains date and time but the column type is 'chr' so, first we need to modify these columns as date type."
   ]
  },
  {
   "cell_type": "code",
   "execution_count": 9,
   "id": "56e65fc5",
   "metadata": {
    "execution": {
     "iopub.execute_input": "2022-03-08T13:14:32.829863Z",
     "iopub.status.busy": "2022-03-08T13:14:32.828485Z",
     "iopub.status.idle": "2022-03-08T13:14:40.746583Z",
     "shell.execute_reply": "2022-03-08T13:14:40.744994Z"
    },
    "papermill": {
     "duration": 8.082917,
     "end_time": "2022-03-08T13:14:40.746732",
     "exception": false,
     "start_time": "2022-03-08T13:14:32.663815",
     "status": "completed"
    },
    "tags": []
   },
   "outputs": [
    {
     "name": "stdout",
     "output_type": "stream",
     "text": [
      "Rows: 3,489,748\n",
      "Columns: 13\n",
      "$ ride_id            \u001b[3m\u001b[90m<chr>\u001b[39m\u001b[23m \"A847FADBBC638E45\", \"5405B80E996FF60D\", \"5DD24A79A4…\n",
      "$ rideable_type      \u001b[3m\u001b[90m<chr>\u001b[39m\u001b[23m \"docked_bike\", \"docked_bike\", \"docked_bike\", \"docke…\n",
      "$ started_at         \u001b[3m\u001b[90m<dttm>\u001b[39m\u001b[23m 2020-04-26 17:45:14, 2020-04-17 17:08:54, 2020-04-…\n",
      "$ ended_at           \u001b[3m\u001b[90m<dttm>\u001b[39m\u001b[23m 2020-04-26 18:12:03, 2020-04-17 17:17:03, 2020-04-…\n",
      "$ start_station_name \u001b[3m\u001b[90m<chr>\u001b[39m\u001b[23m \"Eckhart Park\", \"Drake Ave & Fullerton Ave\", \"McClu…\n",
      "$ start_station_id   \u001b[3m\u001b[90m<chr>\u001b[39m\u001b[23m \"86\", \"503\", \"142\", \"216\", \"125\", \"173\", \"35\", \"434…\n",
      "$ end_station_name   \u001b[3m\u001b[90m<chr>\u001b[39m\u001b[23m \"Lincoln Ave & Diversey Pkwy\", \"Kosciuszko Park\", \"…\n",
      "$ end_station_id     \u001b[3m\u001b[90m<chr>\u001b[39m\u001b[23m \"152\", \"499\", \"255\", \"657\", \"323\", \"35\", \"635\", \"38…\n",
      "$ start_lat          \u001b[3m\u001b[90m<dbl>\u001b[39m\u001b[23m 41.8964, 41.9244, 41.8945, 41.9030, 41.8902, 41.896…\n",
      "$ start_lng          \u001b[3m\u001b[90m<dbl>\u001b[39m\u001b[23m -87.6610, -87.7154, -87.6179, -87.6975, -87.6262, -…\n",
      "$ end_lat            \u001b[3m\u001b[90m<dbl>\u001b[39m\u001b[23m 41.9322, 41.9306, 41.8679, 41.8992, 41.9695, 41.892…\n",
      "$ end_lng            \u001b[3m\u001b[90m<dbl>\u001b[39m\u001b[23m -87.6586, -87.7238, -87.6230, -87.6722, -87.6547, -…\n",
      "$ member_casual      \u001b[3m\u001b[90m<chr>\u001b[39m\u001b[23m \"member\", \"member\", \"member\", \"member\", \"casual\", \"…\n"
     ]
    }
   ],
   "source": [
    "bike_shares <- bike_shares %>%\n",
    "  mutate(started_at = ymd_hms(started_at), ended_at = ymd_hms(ended_at))\n",
    "\n",
    "\n",
    "glimpse(bike_shares)"
   ]
  },
  {
   "cell_type": "markdown",
   "id": "e20b5bd1",
   "metadata": {
    "papermill": {
     "duration": 0.16478,
     "end_time": "2022-03-08T13:14:41.080313",
     "exception": false,
     "start_time": "2022-03-08T13:14:40.915533",
     "status": "completed"
    },
    "tags": []
   },
   "source": [
    "##### **Observation**\n",
    "We can see now that the data type has changed to dttm which is what we were looking for.\n",
    "Now lets modify some column names to make it more understandable and accurate to the data in them and combine the start_lat with start_lang and end_lat with end_lng."
   ]
  },
  {
   "cell_type": "code",
   "execution_count": 10,
   "id": "24824b64",
   "metadata": {
    "execution": {
     "iopub.execute_input": "2022-03-08T13:14:41.419342Z",
     "iopub.status.busy": "2022-03-08T13:14:41.417891Z",
     "iopub.status.idle": "2022-03-08T13:15:04.702777Z",
     "shell.execute_reply": "2022-03-08T13:15:04.701149Z"
    },
    "papermill": {
     "duration": 23.456415,
     "end_time": "2022-03-08T13:15:04.702971",
     "exception": false,
     "start_time": "2022-03-08T13:14:41.246556",
     "status": "completed"
    },
    "tags": []
   },
   "outputs": [
    {
     "name": "stdout",
     "output_type": "stream",
     "text": [
      "Rows: 3,489,748\n",
      "Columns: 11\n",
      "$ ride_id            \u001b[3m\u001b[90m<chr>\u001b[39m\u001b[23m \"A847FADBBC638E45\", \"5405B80E996FF60D\", \"5DD24A79A4…\n",
      "$ ride_type          \u001b[3m\u001b[90m<chr>\u001b[39m\u001b[23m \"docked_bike\", \"docked_bike\", \"docked_bike\", \"docke…\n",
      "$ start_date_time    \u001b[3m\u001b[90m<dttm>\u001b[39m\u001b[23m 2020-04-26 17:45:14, 2020-04-17 17:08:54, 2020-04-…\n",
      "$ end_date_time      \u001b[3m\u001b[90m<dttm>\u001b[39m\u001b[23m 2020-04-26 18:12:03, 2020-04-17 17:17:03, 2020-04-…\n",
      "$ start_station_name \u001b[3m\u001b[90m<chr>\u001b[39m\u001b[23m \"Eckhart Park\", \"Drake Ave & Fullerton Ave\", \"McClu…\n",
      "$ start_station_id   \u001b[3m\u001b[90m<chr>\u001b[39m\u001b[23m \"86\", \"503\", \"142\", \"216\", \"125\", \"173\", \"35\", \"434…\n",
      "$ end_station_name   \u001b[3m\u001b[90m<chr>\u001b[39m\u001b[23m \"Lincoln Ave & Diversey Pkwy\", \"Kosciuszko Park\", \"…\n",
      "$ end_station_id     \u001b[3m\u001b[90m<chr>\u001b[39m\u001b[23m \"152\", \"499\", \"255\", \"657\", \"323\", \"35\", \"635\", \"38…\n",
      "$ start_lat_lng      \u001b[3m\u001b[90m<chr>\u001b[39m\u001b[23m \"41.8964 -87.661\", \"41.9244 -87.7154\", \"41.8945 -87…\n",
      "$ end_lat_lng        \u001b[3m\u001b[90m<chr>\u001b[39m\u001b[23m \"41.9322 -87.6586\", \"41.9306 -87.7238\", \"41.8679 -8…\n",
      "$ membership_type    \u001b[3m\u001b[90m<chr>\u001b[39m\u001b[23m \"member\", \"member\", \"member\", \"member\", \"casual\", \"…\n"
     ]
    }
   ],
   "source": [
    "bike_shares<- bike_shares %>%\n",
    "  rename(ride_type = rideable_type,\n",
    "         start_date_time = started_at,\n",
    "         end_date_time = ended_at,\n",
    "         membership_type = member_casual) %>%\n",
    "  unite(start_lat_lng,c(\"start_lat\",\"start_lng\"),sep = \" \") %>%\n",
    "  unite(end_lat_lng,c(\"end_lat\",\"end_lng\"),sep = \" \")\n",
    "\n",
    "glimpse(bike_shares)\n"
   ]
  },
  {
   "cell_type": "markdown",
   "id": "37835eed",
   "metadata": {
    "papermill": {
     "duration": 0.162507,
     "end_time": "2022-03-08T13:15:05.031111",
     "exception": false,
     "start_time": "2022-03-08T13:15:04.868604",
     "status": "completed"
    },
    "tags": []
   },
   "source": [
    "We will prepare some new columns like the date of trip, month of trip and the duration of the trip to make the data set easier for further analyzation.\n"
   ]
  },
  {
   "cell_type": "code",
   "execution_count": 11,
   "id": "bda8bb0d",
   "metadata": {
    "execution": {
     "iopub.execute_input": "2022-03-08T13:15:05.361284Z",
     "iopub.status.busy": "2022-03-08T13:15:05.359459Z",
     "iopub.status.idle": "2022-03-08T13:15:22.472473Z",
     "shell.execute_reply": "2022-03-08T13:15:22.471425Z"
    },
    "papermill": {
     "duration": 17.279686,
     "end_time": "2022-03-08T13:15:22.472651",
     "exception": false,
     "start_time": "2022-03-08T13:15:05.192965",
     "status": "completed"
    },
    "tags": []
   },
   "outputs": [
    {
     "name": "stdout",
     "output_type": "stream",
     "text": [
      "Rows: 3,489,748\n",
      "Columns: 16\n",
      "$ ride_id            \u001b[3m\u001b[90m<chr>\u001b[39m\u001b[23m \"A847FADBBC638E45\", \"5405B80E996FF60D\", \"5DD24A79A4…\n",
      "$ ride_type          \u001b[3m\u001b[90m<chr>\u001b[39m\u001b[23m \"docked_bike\", \"docked_bike\", \"docked_bike\", \"docke…\n",
      "$ start_date_time    \u001b[3m\u001b[90m<dttm>\u001b[39m\u001b[23m 2020-04-26 17:45:14, 2020-04-17 17:08:54, 2020-04-…\n",
      "$ end_date_time      \u001b[3m\u001b[90m<dttm>\u001b[39m\u001b[23m 2020-04-26 18:12:03, 2020-04-17 17:17:03, 2020-04-…\n",
      "$ start_station_name \u001b[3m\u001b[90m<chr>\u001b[39m\u001b[23m \"Eckhart Park\", \"Drake Ave & Fullerton Ave\", \"McClu…\n",
      "$ start_station_id   \u001b[3m\u001b[90m<chr>\u001b[39m\u001b[23m \"86\", \"503\", \"142\", \"216\", \"125\", \"173\", \"35\", \"434…\n",
      "$ end_station_name   \u001b[3m\u001b[90m<chr>\u001b[39m\u001b[23m \"Lincoln Ave & Diversey Pkwy\", \"Kosciuszko Park\", \"…\n",
      "$ end_station_id     \u001b[3m\u001b[90m<chr>\u001b[39m\u001b[23m \"152\", \"499\", \"255\", \"657\", \"323\", \"35\", \"635\", \"38…\n",
      "$ start_lat_lng      \u001b[3m\u001b[90m<chr>\u001b[39m\u001b[23m \"41.8964 -87.661\", \"41.9244 -87.7154\", \"41.8945 -87…\n",
      "$ end_lat_lng        \u001b[3m\u001b[90m<chr>\u001b[39m\u001b[23m \"41.9322 -87.6586\", \"41.9306 -87.7238\", \"41.8679 -8…\n",
      "$ membership_type    \u001b[3m\u001b[90m<chr>\u001b[39m\u001b[23m \"member\", \"member\", \"member\", \"member\", \"casual\", \"…\n",
      "$ week_day           \u001b[3m\u001b[90m<ord>\u001b[39m\u001b[23m Sunday, Friday, Wednesday, Tuesday, Saturday, Thurs…\n",
      "$ month              \u001b[3m\u001b[90m<ord>\u001b[39m\u001b[23m April, April, April, April, April, April, April, Ap…\n",
      "$ start_time         \u001b[3m\u001b[90m<Period>\u001b[39m\u001b[23m 17H 45M 14S, 17H 8M 54S, 17H 54M 13S, 12H 50M 19…\n",
      "$ start_hour         \u001b[3m\u001b[90m<dbl>\u001b[39m\u001b[23m 17, 17, 17, 12, 10, 17, 14, 12, 10, 15, 15, 15, 18,…\n",
      "$ duration           \u001b[3m\u001b[90m<dbl>\u001b[39m\u001b[23m 26.816667, 8.150000, 14.383333, 12.200000, 52.91666…\n"
     ]
    }
   ],
   "source": [
    "# creating a new column with the trip start day of the week\n",
    "\n",
    "bike_shares <- bike_shares %>% \n",
    "  mutate(week_day = wday(start_date_time,label=TRUE,abbr=FALSE))\n",
    "\n",
    "# creating a new column for the month the trip started\n",
    "\n",
    "bike_shares <- bike_shares %>%\n",
    "  mutate(month = month(start_date_time, label = TRUE, abbr = FALSE))\n",
    "\n",
    "\n",
    "# creating a new column for the trip start time\n",
    "\n",
    "bike_shares <- bike_shares %>%\n",
    "  mutate(start_time = format(start_date_time,\"%H:%M:%S\"))%>%\n",
    "  mutate(start_time = hms(start_time))\n",
    "\n",
    "# creating a new column for the trip start hour\n",
    "bike_shares <- bike_shares %>%\n",
    "  mutate(start_hour = hour(start_time))\n",
    "\n",
    "\n",
    "# calculate the duration of the trip\n",
    "\n",
    "bike_shares <- bike_shares %>%\n",
    "  mutate(duration = as.double(difftime(end_date_time,start_date_time,units = \"mins\")))\n",
    "\n",
    "\n",
    "glimpse(bike_shares)\n"
   ]
  },
  {
   "cell_type": "markdown",
   "id": "06ee1bfc",
   "metadata": {
    "papermill": {
     "duration": 0.16395,
     "end_time": "2022-03-08T13:15:22.814186",
     "exception": false,
     "start_time": "2022-03-08T13:15:22.650236",
     "status": "completed"
    },
    "tags": []
   },
   "source": [
    "Now let's check if there are any values in the duration column with negative values"
   ]
  },
  {
   "cell_type": "code",
   "execution_count": 12,
   "id": "55008c08",
   "metadata": {
    "execution": {
     "iopub.execute_input": "2022-03-08T13:15:23.140567Z",
     "iopub.status.busy": "2022-03-08T13:15:23.139174Z",
     "iopub.status.idle": "2022-03-08T13:15:23.252304Z",
     "shell.execute_reply": "2022-03-08T13:15:23.250700Z"
    },
    "papermill": {
     "duration": 0.277368,
     "end_time": "2022-03-08T13:15:23.252467",
     "exception": false,
     "start_time": "2022-03-08T13:15:22.975099",
     "status": "completed"
    },
    "tags": []
   },
   "outputs": [
    {
     "data": {
      "text/html": [
       "10552"
      ],
      "text/latex": [
       "10552"
      ],
      "text/markdown": [
       "10552"
      ],
      "text/plain": [
       "[1] 10552"
      ]
     },
     "metadata": {},
     "output_type": "display_data"
    }
   ],
   "source": [
    "nrow(subset(bike_shares, duration<0 ))"
   ]
  },
  {
   "cell_type": "markdown",
   "id": "02f84339",
   "metadata": {
    "papermill": {
     "duration": 0.179219,
     "end_time": "2022-03-08T13:15:23.605505",
     "exception": false,
     "start_time": "2022-03-08T13:15:23.426286",
     "status": "completed"
    },
    "tags": []
   },
   "source": [
    "We need to remove these rows as this row may contain incorrect data and these cases consist of only 0.3% of data which is a very  small number so these won't affect our outcome."
   ]
  },
  {
   "cell_type": "code",
   "execution_count": 13,
   "id": "6286e911",
   "metadata": {
    "execution": {
     "iopub.execute_input": "2022-03-08T13:15:23.957690Z",
     "iopub.status.busy": "2022-03-08T13:15:23.955687Z",
     "iopub.status.idle": "2022-03-08T13:15:32.936883Z",
     "shell.execute_reply": "2022-03-08T13:15:32.935903Z"
    },
    "papermill": {
     "duration": 9.155604,
     "end_time": "2022-03-08T13:15:32.937083",
     "exception": false,
     "start_time": "2022-03-08T13:15:23.781479",
     "status": "completed"
    },
    "tags": []
   },
   "outputs": [
    {
     "name": "stdout",
     "output_type": "stream",
     "text": [
      "Rows: 3,479,196\n",
      "Columns: 16\n",
      "$ ride_id            \u001b[3m\u001b[90m<chr>\u001b[39m\u001b[23m \"A847FADBBC638E45\", \"5405B80E996FF60D\", \"5DD24A79A4…\n",
      "$ ride_type          \u001b[3m\u001b[90m<chr>\u001b[39m\u001b[23m \"docked_bike\", \"docked_bike\", \"docked_bike\", \"docke…\n",
      "$ start_date_time    \u001b[3m\u001b[90m<dttm>\u001b[39m\u001b[23m 2020-04-26 17:45:14, 2020-04-17 17:08:54, 2020-04-…\n",
      "$ end_date_time      \u001b[3m\u001b[90m<dttm>\u001b[39m\u001b[23m 2020-04-26 18:12:03, 2020-04-17 17:17:03, 2020-04-…\n",
      "$ start_station_name \u001b[3m\u001b[90m<chr>\u001b[39m\u001b[23m \"Eckhart Park\", \"Drake Ave & Fullerton Ave\", \"McClu…\n",
      "$ start_station_id   \u001b[3m\u001b[90m<chr>\u001b[39m\u001b[23m \"86\", \"503\", \"142\", \"216\", \"125\", \"173\", \"35\", \"434…\n",
      "$ end_station_name   \u001b[3m\u001b[90m<chr>\u001b[39m\u001b[23m \"Lincoln Ave & Diversey Pkwy\", \"Kosciuszko Park\", \"…\n",
      "$ end_station_id     \u001b[3m\u001b[90m<chr>\u001b[39m\u001b[23m \"152\", \"499\", \"255\", \"657\", \"323\", \"35\", \"635\", \"38…\n",
      "$ start_lat_lng      \u001b[3m\u001b[90m<chr>\u001b[39m\u001b[23m \"41.8964 -87.661\", \"41.9244 -87.7154\", \"41.8945 -87…\n",
      "$ end_lat_lng        \u001b[3m\u001b[90m<chr>\u001b[39m\u001b[23m \"41.9322 -87.6586\", \"41.9306 -87.7238\", \"41.8679 -8…\n",
      "$ membership_type    \u001b[3m\u001b[90m<chr>\u001b[39m\u001b[23m \"member\", \"member\", \"member\", \"member\", \"casual\", \"…\n",
      "$ week_day           \u001b[3m\u001b[90m<ord>\u001b[39m\u001b[23m Sunday, Friday, Wednesday, Tuesday, Saturday, Thurs…\n",
      "$ month              \u001b[3m\u001b[90m<ord>\u001b[39m\u001b[23m April, April, April, April, April, April, April, Ap…\n",
      "$ start_time         \u001b[3m\u001b[90m<Period>\u001b[39m\u001b[23m 17H 45M 14S, 17H 8M 54S, 17H 54M 13S, 12H 50M 19…\n",
      "$ start_hour         \u001b[3m\u001b[90m<dbl>\u001b[39m\u001b[23m 17, 17, 17, 12, 10, 17, 14, 12, 10, 15, 15, 15, 18,…\n",
      "$ duration           \u001b[3m\u001b[90m<dbl>\u001b[39m\u001b[23m 26.816667, 8.150000, 14.383333, 12.200000, 52.91666…\n"
     ]
    }
   ],
   "source": [
    "#drop the negative duration fields and store it in a new dataframe\n",
    "bike_shares_v2 <- bike_shares[!(bike_shares$duration<0),]\n",
    "\n",
    "glimpse(bike_shares_v2)"
   ]
  },
  {
   "cell_type": "markdown",
   "id": "02dae2e9",
   "metadata": {
    "papermill": {
     "duration": 0.167299,
     "end_time": "2022-03-08T13:15:33.273119",
     "exception": false,
     "start_time": "2022-03-08T13:15:33.105820",
     "status": "completed"
    },
    "tags": []
   },
   "source": [
    "Now let's make sure the membership_type column has only two distinct values and also we would observe the trip duration by different type of members\n"
   ]
  },
  {
   "cell_type": "code",
   "execution_count": 14,
   "id": "bfd967d9",
   "metadata": {
    "execution": {
     "iopub.execute_input": "2022-03-08T13:15:33.636249Z",
     "iopub.status.busy": "2022-03-08T13:15:33.634990Z",
     "iopub.status.idle": "2022-03-08T13:15:36.771376Z",
     "shell.execute_reply": "2022-03-08T13:15:36.770112Z"
    },
    "papermill": {
     "duration": 3.324615,
     "end_time": "2022-03-08T13:15:36.771550",
     "exception": false,
     "start_time": "2022-03-08T13:15:33.446935",
     "status": "completed"
    },
    "tags": []
   },
   "outputs": [
    {
     "data": {
      "text/plain": [
       "\n",
       " casual  member \n",
       "1427121 2052075 "
      ]
     },
     "metadata": {},
     "output_type": "display_data"
    },
    {
     "data": {
      "text/html": [
       "<table class=\"dataframe\">\n",
       "<caption>A data.frame: 2 × 2</caption>\n",
       "<thead>\n",
       "\t<tr><th scope=col>customer_type</th><th scope=col>total_duration_of_trip(mins)</th></tr>\n",
       "\t<tr><th scope=col>&lt;chr&gt;</th><th scope=col>&lt;dbl&gt;</th></tr>\n",
       "</thead>\n",
       "<tbody>\n",
       "\t<tr><td>casual</td><td>64176970</td></tr>\n",
       "\t<tr><td>member</td><td>33069418</td></tr>\n",
       "</tbody>\n",
       "</table>\n"
      ],
      "text/latex": [
       "A data.frame: 2 × 2\n",
       "\\begin{tabular}{ll}\n",
       " customer\\_type & total\\_duration\\_of\\_trip(mins)\\\\\n",
       " <chr> & <dbl>\\\\\n",
       "\\hline\n",
       "\t casual & 64176970\\\\\n",
       "\t member & 33069418\\\\\n",
       "\\end{tabular}\n"
      ],
      "text/markdown": [
       "\n",
       "A data.frame: 2 × 2\n",
       "\n",
       "| customer_type &lt;chr&gt; | total_duration_of_trip(mins) &lt;dbl&gt; |\n",
       "|---|---|\n",
       "| casual | 64176970 |\n",
       "| member | 33069418 |\n",
       "\n"
      ],
      "text/plain": [
       "  customer_type total_duration_of_trip(mins)\n",
       "1 casual        64176970                    \n",
       "2 member        33069418                    "
      ]
     },
     "metadata": {},
     "output_type": "display_data"
    }
   ],
   "source": [
    "# checking the distinct value in membership type column and the count\n",
    "table(bike_shares_v2$membership_type)\n",
    "\n",
    "# trip duration by different type of members\n",
    "setNames(aggregate(duration ~ membership_type, bike_shares_v2, sum), c(\"customer_type\", \"total_duration_of_trip(mins)\"))"
   ]
  },
  {
   "cell_type": "markdown",
   "id": "e6e8df3e",
   "metadata": {
    "papermill": {
     "duration": 0.174707,
     "end_time": "2022-03-08T13:15:37.116932",
     "exception": false,
     "start_time": "2022-03-08T13:15:36.942225",
     "status": "completed"
    },
    "tags": []
   },
   "source": [
    "### 4. Analyze and Share\n",
    "Now that our data is ready for further analysis we will discover some interesting insights of the data.\n",
    "\n",
    "At first we will try to get some overview of the trip duration "
   ]
  },
  {
   "cell_type": "code",
   "execution_count": 15,
   "id": "ebba8dc9",
   "metadata": {
    "execution": {
     "iopub.execute_input": "2022-03-08T13:15:37.477106Z",
     "iopub.status.busy": "2022-03-08T13:15:37.475282Z",
     "iopub.status.idle": "2022-03-08T13:15:37.688880Z",
     "shell.execute_reply": "2022-03-08T13:15:37.687222Z"
    },
    "papermill": {
     "duration": 0.391817,
     "end_time": "2022-03-08T13:15:37.689028",
     "exception": false,
     "start_time": "2022-03-08T13:15:37.297211",
     "status": "completed"
    },
    "tags": []
   },
   "outputs": [
    {
     "data": {
      "text/plain": [
       "    Min.  1st Qu.   Median     Mean  3rd Qu.     Max. \n",
       "    0.00     7.93    14.57    27.95    26.68 58720.03 "
      ]
     },
     "metadata": {},
     "output_type": "display_data"
    }
   ],
   "source": [
    "summary(bike_shares_v2$duration)"
   ]
  },
  {
   "cell_type": "markdown",
   "id": "8f571078",
   "metadata": {
    "papermill": {
     "duration": 0.178463,
     "end_time": "2022-03-08T13:15:38.046865",
     "exception": false,
     "start_time": "2022-03-08T13:15:37.868402",
     "status": "completed"
    },
    "tags": []
   },
   "source": [
    "##### **Observation**\n",
    "This doesn't describe much about the data so now lets try to put it against the membership type to gain more insight\n"
   ]
  },
  {
   "cell_type": "code",
   "execution_count": 16,
   "id": "a9475b3a",
   "metadata": {
    "execution": {
     "iopub.execute_input": "2022-03-08T13:15:38.413264Z",
     "iopub.status.busy": "2022-03-08T13:15:38.412294Z",
     "iopub.status.idle": "2022-03-08T13:15:38.542160Z",
     "shell.execute_reply": "2022-03-08T13:15:38.540673Z"
    },
    "papermill": {
     "duration": 0.313558,
     "end_time": "2022-03-08T13:15:38.542295",
     "exception": false,
     "start_time": "2022-03-08T13:15:38.228737",
     "status": "completed"
    },
    "tags": []
   },
   "outputs": [
    {
     "data": {
      "text/html": [
       "<table class=\"dataframe\">\n",
       "<caption>A tibble: 2 × 4</caption>\n",
       "<thead>\n",
       "\t<tr><th scope=col>membership_type</th><th scope=col>min_trip_duration</th><th scope=col>max_trip_duration</th><th scope=col>avg_trip_duration</th></tr>\n",
       "\t<tr><th scope=col>&lt;chr&gt;</th><th scope=col>&lt;dbl&gt;</th><th scope=col>&lt;dbl&gt;</th><th scope=col>&lt;dbl&gt;</th></tr>\n",
       "</thead>\n",
       "<tbody>\n",
       "\t<tr><td>casual</td><td>0</td><td>55683.88</td><td>44.96954</td></tr>\n",
       "\t<tr><td>member</td><td>0</td><td>58720.03</td><td>16.11511</td></tr>\n",
       "</tbody>\n",
       "</table>\n"
      ],
      "text/latex": [
       "A tibble: 2 × 4\n",
       "\\begin{tabular}{llll}\n",
       " membership\\_type & min\\_trip\\_duration & max\\_trip\\_duration & avg\\_trip\\_duration\\\\\n",
       " <chr> & <dbl> & <dbl> & <dbl>\\\\\n",
       "\\hline\n",
       "\t casual & 0 & 55683.88 & 44.96954\\\\\n",
       "\t member & 0 & 58720.03 & 16.11511\\\\\n",
       "\\end{tabular}\n"
      ],
      "text/markdown": [
       "\n",
       "A tibble: 2 × 4\n",
       "\n",
       "| membership_type &lt;chr&gt; | min_trip_duration &lt;dbl&gt; | max_trip_duration &lt;dbl&gt; | avg_trip_duration &lt;dbl&gt; |\n",
       "|---|---|---|---|\n",
       "| casual | 0 | 55683.88 | 44.96954 |\n",
       "| member | 0 | 58720.03 | 16.11511 |\n",
       "\n"
      ],
      "text/plain": [
       "  membership_type min_trip_duration max_trip_duration avg_trip_duration\n",
       "1 casual          0                 55683.88          44.96954         \n",
       "2 member          0                 58720.03          16.11511         "
      ]
     },
     "metadata": {},
     "output_type": "display_data"
    }
   ],
   "source": [
    "bike_shares_v2 %>%\n",
    "  group_by(membership_type) %>%\n",
    "  summarise(min_trip_duration = min(duration),\n",
    "            max_trip_duration = max(duration),\n",
    "            avg_trip_duration = mean(duration))"
   ]
  },
  {
   "cell_type": "markdown",
   "id": "0c3bae04",
   "metadata": {
    "papermill": {
     "duration": 0.17914,
     "end_time": "2022-03-08T13:15:38.904511",
     "exception": false,
     "start_time": "2022-03-08T13:15:38.725371",
     "status": "completed"
    },
    "tags": []
   },
   "source": [
    "##### **Observation**\n",
    "We observe that the average trip duration of casual members is double than that of those who have the membership. Now, let's analyze further and check if the trip duration by each day of the week to find some more insights."
   ]
  },
  {
   "cell_type": "code",
   "execution_count": 17,
   "id": "d03af61f",
   "metadata": {
    "execution": {
     "iopub.execute_input": "2022-03-08T13:15:39.270973Z",
     "iopub.status.busy": "2022-03-08T13:15:39.269546Z",
     "iopub.status.idle": "2022-03-08T13:15:39.474933Z",
     "shell.execute_reply": "2022-03-08T13:15:39.473661Z"
    },
    "papermill": {
     "duration": 0.388463,
     "end_time": "2022-03-08T13:15:39.475093",
     "exception": false,
     "start_time": "2022-03-08T13:15:39.086630",
     "status": "completed"
    },
    "tags": []
   },
   "outputs": [
    {
     "name": "stderr",
     "output_type": "stream",
     "text": [
      "`summarise()` has grouped output by 'membership_type'. You can override using the `.groups` argument.\n",
      "\n"
     ]
    },
    {
     "data": {
      "text/html": [
       "<table class=\"dataframe\">\n",
       "<caption>A grouped_df: 14 × 4</caption>\n",
       "<thead>\n",
       "\t<tr><th scope=col>membership_type</th><th scope=col>week_day</th><th scope=col>num_of_rides</th><th scope=col>avg_duration</th></tr>\n",
       "\t<tr><th scope=col>&lt;chr&gt;</th><th scope=col>&lt;ord&gt;</th><th scope=col>&lt;int&gt;</th><th scope=col>&lt;dbl&gt;</th></tr>\n",
       "</thead>\n",
       "<tbody>\n",
       "\t<tr><td>casual</td><td>Sunday   </td><td>262271</td><td>50.74309</td></tr>\n",
       "\t<tr><td>casual</td><td>Monday   </td><td>151169</td><td>44.97605</td></tr>\n",
       "\t<tr><td>casual</td><td>Tuesday  </td><td>145267</td><td>40.48734</td></tr>\n",
       "\t<tr><td>casual</td><td>Wednesday</td><td>158402</td><td>40.31401</td></tr>\n",
       "\t<tr><td>casual</td><td>Thursday </td><td>166402</td><td>42.96878</td></tr>\n",
       "\t<tr><td>casual</td><td>Friday   </td><td>208551</td><td>42.76717</td></tr>\n",
       "\t<tr><td>casual</td><td>Saturday </td><td>335059</td><td>46.95597</td></tr>\n",
       "\t<tr><td>member</td><td>Sunday   </td><td>265299</td><td>18.21758</td></tr>\n",
       "\t<tr><td>member</td><td>Monday   </td><td>267336</td><td>15.33711</td></tr>\n",
       "\t<tr><td>member</td><td>Tuesday  </td><td>284372</td><td>15.13065</td></tr>\n",
       "\t<tr><td>member</td><td>Wednesday</td><td>305097</td><td>15.31491</td></tr>\n",
       "\t<tr><td>member</td><td>Thursday </td><td>300453</td><td>15.20953</td></tr>\n",
       "\t<tr><td>member</td><td>Friday   </td><td>306398</td><td>15.80188</td></tr>\n",
       "\t<tr><td>member</td><td>Saturday </td><td>323120</td><td>17.79360</td></tr>\n",
       "</tbody>\n",
       "</table>\n"
      ],
      "text/latex": [
       "A grouped\\_df: 14 × 4\n",
       "\\begin{tabular}{llll}\n",
       " membership\\_type & week\\_day & num\\_of\\_rides & avg\\_duration\\\\\n",
       " <chr> & <ord> & <int> & <dbl>\\\\\n",
       "\\hline\n",
       "\t casual & Sunday    & 262271 & 50.74309\\\\\n",
       "\t casual & Monday    & 151169 & 44.97605\\\\\n",
       "\t casual & Tuesday   & 145267 & 40.48734\\\\\n",
       "\t casual & Wednesday & 158402 & 40.31401\\\\\n",
       "\t casual & Thursday  & 166402 & 42.96878\\\\\n",
       "\t casual & Friday    & 208551 & 42.76717\\\\\n",
       "\t casual & Saturday  & 335059 & 46.95597\\\\\n",
       "\t member & Sunday    & 265299 & 18.21758\\\\\n",
       "\t member & Monday    & 267336 & 15.33711\\\\\n",
       "\t member & Tuesday   & 284372 & 15.13065\\\\\n",
       "\t member & Wednesday & 305097 & 15.31491\\\\\n",
       "\t member & Thursday  & 300453 & 15.20953\\\\\n",
       "\t member & Friday    & 306398 & 15.80188\\\\\n",
       "\t member & Saturday  & 323120 & 17.79360\\\\\n",
       "\\end{tabular}\n"
      ],
      "text/markdown": [
       "\n",
       "A grouped_df: 14 × 4\n",
       "\n",
       "| membership_type &lt;chr&gt; | week_day &lt;ord&gt; | num_of_rides &lt;int&gt; | avg_duration &lt;dbl&gt; |\n",
       "|---|---|---|---|\n",
       "| casual | Sunday    | 262271 | 50.74309 |\n",
       "| casual | Monday    | 151169 | 44.97605 |\n",
       "| casual | Tuesday   | 145267 | 40.48734 |\n",
       "| casual | Wednesday | 158402 | 40.31401 |\n",
       "| casual | Thursday  | 166402 | 42.96878 |\n",
       "| casual | Friday    | 208551 | 42.76717 |\n",
       "| casual | Saturday  | 335059 | 46.95597 |\n",
       "| member | Sunday    | 265299 | 18.21758 |\n",
       "| member | Monday    | 267336 | 15.33711 |\n",
       "| member | Tuesday   | 284372 | 15.13065 |\n",
       "| member | Wednesday | 305097 | 15.31491 |\n",
       "| member | Thursday  | 300453 | 15.20953 |\n",
       "| member | Friday    | 306398 | 15.80188 |\n",
       "| member | Saturday  | 323120 | 17.79360 |\n",
       "\n"
      ],
      "text/plain": [
       "   membership_type week_day  num_of_rides avg_duration\n",
       "1  casual          Sunday    262271       50.74309    \n",
       "2  casual          Monday    151169       44.97605    \n",
       "3  casual          Tuesday   145267       40.48734    \n",
       "4  casual          Wednesday 158402       40.31401    \n",
       "5  casual          Thursday  166402       42.96878    \n",
       "6  casual          Friday    208551       42.76717    \n",
       "7  casual          Saturday  335059       46.95597    \n",
       "8  member          Sunday    265299       18.21758    \n",
       "9  member          Monday    267336       15.33711    \n",
       "10 member          Tuesday   284372       15.13065    \n",
       "11 member          Wednesday 305097       15.31491    \n",
       "12 member          Thursday  300453       15.20953    \n",
       "13 member          Friday    306398       15.80188    \n",
       "14 member          Saturday  323120       17.79360    "
      ]
     },
     "metadata": {},
     "output_type": "display_data"
    }
   ],
   "source": [
    "bike_shares_v2 %>%\n",
    "  group_by(membership_type,week_day) %>%\n",
    "  summarise(num_of_rides = n(), avg_duration = mean(duration))"
   ]
  },
  {
   "cell_type": "markdown",
   "id": "0bd0efad",
   "metadata": {
    "papermill": {
     "duration": 0.182309,
     "end_time": "2022-03-08T13:15:39.841615",
     "exception": false,
     "start_time": "2022-03-08T13:15:39.659306",
     "status": "completed"
    },
    "tags": []
   },
   "source": [
    "##### **Observation**\n",
    "The average duration of casual customers are more than that of the member type on almost all weekdays but the number of rides on some days are greater for the member type than that of casual type customers, but it's hard to get an overview in this format so lets plot a graph to view the difference.\n"
   ]
  },
  {
   "cell_type": "code",
   "execution_count": 18,
   "id": "27b6031a",
   "metadata": {
    "execution": {
     "iopub.execute_input": "2022-03-08T13:15:40.218856Z",
     "iopub.status.busy": "2022-03-08T13:15:40.217372Z",
     "iopub.status.idle": "2022-03-08T13:15:40.875890Z",
     "shell.execute_reply": "2022-03-08T13:15:40.875361Z"
    },
    "papermill": {
     "duration": 0.849595,
     "end_time": "2022-03-08T13:15:40.876006",
     "exception": false,
     "start_time": "2022-03-08T13:15:40.026411",
     "status": "completed"
    },
    "tags": []
   },
   "outputs": [
    {
     "name": "stderr",
     "output_type": "stream",
     "text": [
      "`summarise()` has grouped output by 'membership_type'. You can override using the `.groups` argument.\n",
      "\n"
     ]
    },
    {
     "data": {
      "image/png": "[encoded data removed]"
     },
     "metadata": {
      "image/png": {
       "height": 420,
       "width": 420
      }
     },
     "output_type": "display_data"
    }
   ],
   "source": [
    "bike_shares_v2 %>%\n",
    "  group_by(membership_type, week_day) %>%\n",
    "  summarise(num_of_rides = n()) %>%\n",
    "  ggplot(aes(x= week_day, y = num_of_rides,fill = membership_type))+\n",
    "  geom_col(width = 0.5, position = position_dodge(width = 0.5))+scale_y_continuous(labels = function(x) format(x, scientific = FALSE))+\n",
    "  labs(title= \"Total trips by customer type vs day of the week\")"
   ]
  },
  {
   "cell_type": "markdown",
   "id": "99b73e98",
   "metadata": {
    "papermill": {
     "duration": 0.190387,
     "end_time": "2022-03-08T13:15:41.255062",
     "exception": false,
     "start_time": "2022-03-08T13:15:41.064675",
     "status": "completed"
    },
    "tags": []
   },
   "source": [
    "##### **Observation**\n",
    "From the above graph we can see that the casual customers uses the bike more in the weekends and the bike rides number drops significantly during the weekdays but for the customer type member, the bike rides are almost significant throughout the week.\n",
    "\n",
    "Now as we saw before that the average duration of trips by casual customers are much higher compared to those who have membership, so let's create a visualization to observe the trip duration by customers on each day of week."
   ]
  },
  {
   "cell_type": "code",
   "execution_count": 19,
   "id": "0704f35b",
   "metadata": {
    "execution": {
     "iopub.execute_input": "2022-03-08T13:15:41.639625Z",
     "iopub.status.busy": "2022-03-08T13:15:41.637908Z",
     "iopub.status.idle": "2022-03-08T13:15:42.833592Z",
     "shell.execute_reply": "2022-03-08T13:15:42.832940Z"
    },
    "papermill": {
     "duration": 1.38906,
     "end_time": "2022-03-08T13:15:42.833729",
     "exception": false,
     "start_time": "2022-03-08T13:15:41.444669",
     "status": "completed"
    },
    "tags": []
   },
   "outputs": [
    {
     "name": "stderr",
     "output_type": "stream",
     "text": [
      "`summarise()` has grouped output by 'membership_type'. You can override using the `.groups` argument.\n",
      "\n"
     ]
    },
    {
     "data": {
      "image/png": "[encoded data removed]"
     },
     "metadata": {
      "image/png": {
       "height": 420,
       "width": 420
      }
     },
     "output_type": "display_data"
    }
   ],
   "source": [
    "bike_shares_v2 %>%\n",
    "  group_by(membership_type, week_day) %>%\n",
    "  summarise(avg_duration =  mean(duration)) %>%\n",
    "  ggplot(aes(x=week_day, y= avg_duration, fill= membership_type)) + \n",
    "  geom_col(width = 0.5, position = position_dodge(width = 0.5))+\n",
    "  labs(title= \"Averagre trip duration by customer type vs day of the week\")"
   ]
  },
  {
   "cell_type": "markdown",
   "id": "bd2c7290",
   "metadata": {
    "papermill": {
     "duration": 0.192881,
     "end_time": "2022-03-08T13:15:43.216033",
     "exception": false,
     "start_time": "2022-03-08T13:15:43.023152",
     "status": "completed"
    },
    "tags": []
   },
   "source": [
    "##### **Observation**\n",
    "Here we observe that the casual members take almost twice as longer rides than the customer who have membership. Also the duration of trip is more in the weekends but doesn't drop much on the weekdays.\n",
    "\n",
    "Now let's see how the number of bike rides differs by month for the casual and member customers."
   ]
  },
  {
   "cell_type": "code",
   "execution_count": 20,
   "id": "75c1d36b",
   "metadata": {
    "execution": {
     "iopub.execute_input": "2022-03-08T13:15:43.607444Z",
     "iopub.status.busy": "2022-03-08T13:15:43.606125Z",
     "iopub.status.idle": "2022-03-08T13:15:44.026216Z",
     "shell.execute_reply": "2022-03-08T13:15:44.025641Z"
    },
    "papermill": {
     "duration": 0.615662,
     "end_time": "2022-03-08T13:15:44.026343",
     "exception": false,
     "start_time": "2022-03-08T13:15:43.410681",
     "status": "completed"
    },
    "tags": []
   },
   "outputs": [
    {
     "name": "stderr",
     "output_type": "stream",
     "text": [
      "`summarise()` has grouped output by 'membership_type'. You can override using the `.groups` argument.\n",
      "\n"
     ]
    },
    {
     "data": {
      "image/png": "[encoded data removed]"
     },
     "metadata": {
      "image/png": {
       "height": 420,
       "width": 420
      }
     },
     "output_type": "display_data"
    }
   ],
   "source": [
    "bike_shares_v2 %>%\n",
    "  group_by(membership_type, month) %>%\n",
    "  summarise(num_of_rides = n()) %>%\n",
    "  ggplot(aes(x= month, y = num_of_rides, fill = membership_type)) +\n",
    "  geom_col(width = 0.5, position = position_dodge(width = 0.5))+\n",
    "  scale_y_continuous(labels = function(x) format(x,scientific =FALSE))+\n",
    "  theme(axis.text.x = element_text(angle=45))+\n",
    "  labs(title= \"Total trips by customer type vs month\")"
   ]
  },
  {
   "cell_type": "markdown",
   "id": "a02871a7",
   "metadata": {
    "papermill": {
     "duration": 0.193088,
     "end_time": "2022-03-08T13:15:44.417660",
     "exception": false,
     "start_time": "2022-03-08T13:15:44.224572",
     "status": "completed"
    },
    "tags": []
   },
   "source": [
    "##### **Observation**\n",
    "We can see here that the number of rides taken is much higher in the month of july, august and september for both type of memebers which could be due to some external factors like climate or may be due the data was taken during ongoing covid situtaions.\n",
    "\n",
    "Now let's create a plot on the average duration of rides by membership type with respect to the months"
   ]
  },
  {
   "cell_type": "code",
   "execution_count": 21,
   "id": "e391028c",
   "metadata": {
    "execution": {
     "iopub.execute_input": "2022-03-08T13:15:44.833752Z",
     "iopub.status.busy": "2022-03-08T13:15:44.832183Z",
     "iopub.status.idle": "2022-03-08T13:15:45.262368Z",
     "shell.execute_reply": "2022-03-08T13:15:45.261833Z"
    },
    "papermill": {
     "duration": 0.624369,
     "end_time": "2022-03-08T13:15:45.262500",
     "exception": false,
     "start_time": "2022-03-08T13:15:44.638131",
     "status": "completed"
    },
    "tags": []
   },
   "outputs": [
    {
     "name": "stderr",
     "output_type": "stream",
     "text": [
      "`summarise()` has grouped output by 'membership_type'. You can override using the `.groups` argument.\n",
      "\n"
     ]
    },
    {
     "data": {
      "image/png": "[encoded data removed]"
     },
     "metadata": {
      "image/png": {
       "height": 420,
       "width": 420
      }
     },
     "output_type": "display_data"
    }
   ],
   "source": [
    "bike_shares_v2 %>%\n",
    "  group_by(membership_type, month) %>%\n",
    "  summarise(avg_duration = mean(duration)) %>%\n",
    "  ggplot(aes(x = month, y= avg_duration, fill = membership_type))+\n",
    "  geom_col(width=0.5, position = position_dodge(width = 0.5)) +\n",
    "  theme(axis.text.x = element_text(angle=45))+\n",
    "  labs(title= \"Average trip duration by customer type vs month\")"
   ]
  },
  {
   "cell_type": "markdown",
   "id": "1cdda274",
   "metadata": {
    "papermill": {
     "duration": 0.194101,
     "end_time": "2022-03-08T13:15:45.649600",
     "exception": false,
     "start_time": "2022-03-08T13:15:45.455499",
     "status": "completed"
    },
    "tags": []
   },
   "source": [
    "##### **Observation**\n",
    "Here we can see that the average duration is highest in the month of April and very low in the months of october, november, december and january. Also this could  be sue to some external factors like climate and covid restrictions.\n",
    "\n",
    "Now let's analyze how much of the bikes are used during a day by plotting a chart."
   ]
  },
  {
   "cell_type": "code",
   "execution_count": 22,
   "id": "833269a1",
   "metadata": {
    "execution": {
     "iopub.execute_input": "2022-03-08T13:15:46.088541Z",
     "iopub.status.busy": "2022-03-08T13:15:46.086069Z",
     "iopub.status.idle": "2022-03-08T13:15:46.534479Z",
     "shell.execute_reply": "2022-03-08T13:15:46.533928Z"
    },
    "papermill": {
     "duration": 0.677652,
     "end_time": "2022-03-08T13:15:46.534638",
     "exception": false,
     "start_time": "2022-03-08T13:15:45.856986",
     "status": "completed"
    },
    "tags": []
   },
   "outputs": [
    {
     "name": "stderr",
     "output_type": "stream",
     "text": [
      "`summarise()` has grouped output by 'start_hour'. You can override using the `.groups` argument.\n",
      "\n"
     ]
    },
    {
     "data": {
      "image/png": "[encoded data removed]"
     },
     "metadata": {
      "image/png": {
       "height": 420,
       "width": 420
      }
     },
     "output_type": "display_data"
    }
   ],
   "source": [
    "bike_shares_v2%>%\n",
    "  group_by(start_hour, membership_type)%>%\n",
    "  summarise(num_of_trips = n()) %>%\n",
    "  ggplot(aes(x=start_hour, y= num_of_trips, group = membership_type, color = membership_type))+\n",
    "  geom_line() + scale_x_continuous(breaks = c(0,2,4,6,8,10,12,14,16,18,20,22,24)) + labs(title = \"Demand of bikes over 24 hrs in a day\", x = \"Time\")"
   ]
  },
  {
   "cell_type": "markdown",
   "id": "4dbea363",
   "metadata": {
    "papermill": {
     "duration": 0.198869,
     "end_time": "2022-03-08T13:15:46.931183",
     "exception": false,
     "start_time": "2022-03-08T13:15:46.732314",
     "status": "completed"
    },
    "tags": []
   },
   "source": [
    "##### **Observation**\n",
    "Here we observed that the peak hour for both kind of members to opt for bike service is around 5pm and we can also observe that during 7am to 9am there is a huge difference between the casual customers and the members, the members tends to use the bikes more during that time as compared to casual customers. Generally the office in and out time are around 7am-9am and 5pm-6pm respectively so may be the members uses the bike services for reaching their work locations.\n",
    "\n",
    "Now, we can also check what kind of bike is used by both kind of members by plotting a chart."
   ]
  },
  {
   "cell_type": "code",
   "execution_count": 23,
   "id": "49817ce7",
   "metadata": {
    "execution": {
     "iopub.execute_input": "2022-03-08T13:15:47.334631Z",
     "iopub.status.busy": "2022-03-08T13:15:47.332621Z",
     "iopub.status.idle": "2022-03-08T13:15:47.672703Z",
     "shell.execute_reply": "2022-03-08T13:15:47.671500Z"
    },
    "papermill": {
     "duration": 0.541675,
     "end_time": "2022-03-08T13:15:47.672848",
     "exception": false,
     "start_time": "2022-03-08T13:15:47.131173",
     "status": "completed"
    },
    "tags": []
   },
   "outputs": [
    {
     "name": "stderr",
     "output_type": "stream",
     "text": [
      "`summarise()` has grouped output by 'membership_type'. You can override using the `.groups` argument.\n",
      "\n"
     ]
    },
    {
     "data": {
      "image/png": "[encoded data removed]"
     },
     "metadata": {
      "image/png": {
       "height": 420,
       "width": 420
      }
     },
     "output_type": "display_data"
    }
   ],
   "source": [
    "bike_shares_v2 %>%\n",
    "  group_by(membership_type, ride_type) %>%\n",
    "  summarize(num_of_trips = n()) %>%\n",
    "  ggplot(aes(x= ride_type,y= num_of_trips, fill = membership_type, group = membership_type))+\n",
    "  geom_col(width = 0.5, position = position_dodge(width = 0.5))"
   ]
  },
  {
   "cell_type": "markdown",
   "id": "d2f5bc12",
   "metadata": {
    "papermill": {
     "duration": 0.200588,
     "end_time": "2022-03-08T13:15:48.078140",
     "exception": false,
     "start_time": "2022-03-08T13:15:47.877552",
     "status": "completed"
    },
    "tags": []
   },
   "source": [
    "##### **Observation**\n",
    "Here we can see that the docked bike is used most by both kind of members but we can't conclude anything from this graph as the prices or other details are not provided in the dataset.\n",
    "\n",
    "Now we can also further analyse the data with the help of SQL or Tableau, we just need to export the data from the dataframe to a csv file.\n",
    "\n",
    "### **6. Act**\n",
    "We will now draw conclusion of our analysis and share some recommendation and insights on how the we can transform our casual customers to membership holders in Cyclistic bike share company. \n",
    "\n",
    "##### **Conclusion**\n",
    "* There are about 1427121 casual customers which consist of about 41% of the total customers in the time period of Apr 2020 to March 2021.\n",
    "* The average ride duration of casual customers is around 66% of the total duration of ride taken by all the customers from April 2020 to March 2021.\n",
    "* The casual members took the bike rides more during the weekends, around 42% of rides taken by casual customers are during weekends whereas the bike rides for the membership customers are evenly spread throughout the week and only 28% took rides during weekends.\n",
    "* The casual customers mostly took bike rides during 4pm-7pm in a day while the membership holders took most rides during 7am-9am as well as 4pm-7pm\n",
    "\n",
    "##### **Recommendations**\n",
    "* Special membership discounts or offers should be given to the customers who take bike rides during weekdays to covert the casual customers to members .\n",
    "* Membership charges should have reduced pricing if more rides of long duration are taken during weekdays.\n",
    "* Some gifts or prizes should be announced for the customers who took rides during evening time and would be having a membership.\n",
    "* Special discounts should be placed if rides are taken during weekdays and during 9am-3pm to increase the riders during this time.\n",
    "* There's a massive rise in the number of bike rides during july, august and september, so special short term three months membership plan would increase the number of customers with membership.\n"
   ]
  }
 ],
 "metadata": {
  "kernelspec": {
   "display_name": "R",
   "language": "R",
   "name": "ir"
  },
  "language_info": {
   "codemirror_mode": "r",
   "file_extension": ".r",
   "mimetype": "text/x-r-source",
   "name": "R",
   "pygments_lexer": "r",
   "version": "4.0.5"
  },
  "papermill": {
   "default_parameters": {},
   "duration": 147.630658,
   "end_time": "2022-03-08T13:15:48.493382",
   "environment_variables": {},
   "exception": null,
   "input_path": "__notebook__.ipynb",
   "output_path": "__notebook__.ipynb",
   "parameters": {},
   "start_time": "2022-03-08T13:13:20.862724",
   "version": "2.3.3"
  }
 },
 "nbformat": 4,
 "nbformat_minor": 5
}
